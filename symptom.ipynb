{
 "cells": [
  {
   "cell_type": "code",
   "execution_count": 1,
   "metadata": {},
   "outputs": [
    {
     "name": "stderr",
     "output_type": "stream",
     "text": [
      "/root/anaconda3/lib/python3.6/site-packages/h5py/__init__.py:36: FutureWarning: Conversion of the second argument of issubdtype from `float` to `np.floating` is deprecated. In future, it will be treated as `np.float64 == np.dtype(float).type`.\n",
      "  from ._conv import register_converters as _register_converters\n"
     ]
    }
   ],
   "source": [
    "import json\n",
    "import numpy as np\n",
    "import random\n",
    "\n",
    "import tensorflow as tf\n",
    "import tensorlayer as tl\n",
    "\n",
    "from IPython.core.display import display, HTML"
   ]
  },
  {
   "cell_type": "code",
   "execution_count": 2,
   "metadata": {},
   "outputs": [],
   "source": [
    "batch_size = 5\n",
    "vec_dim = 100\n",
    "state_dim = 50\n",
    "sent_len = 20"
   ]
  },
  {
   "cell_type": "markdown",
   "metadata": {},
   "source": [
    "# Load word embedded vectors"
   ]
  },
  {
   "cell_type": "code",
   "execution_count": 3,
   "metadata": {},
   "outputs": [],
   "source": [
    "def load_vec():\n",
    "    dict_vec = {}\n",
    "    with open('tokens.vec', 'r', encoding='utf-8') as f:\n",
    "        f.readline()\n",
    "        for line in f:\n",
    "            line = line.split(' ')\n",
    "            token = line[0]\n",
    "            vec = line[1:-1]\n",
    "            dict_vec[token] = [float(i) for i in vec]\n",
    "    return dict_vec\n",
    "\n",
    "def get_vec(k):\n",
    "    ak = dict_vec.keys()\n",
    "    if k in ak:\n",
    "        return dict_vec[k]\n",
    "    else:\n",
    "        return [0.0]*vec_dim"
   ]
  },
  {
   "cell_type": "code",
   "execution_count": 4,
   "metadata": {},
   "outputs": [],
   "source": [
    "dict_vec = load_vec()"
   ]
  },
  {
   "cell_type": "code",
   "execution_count": null,
   "metadata": {},
   "outputs": [],
   "source": []
  },
  {
   "cell_type": "markdown",
   "metadata": {},
   "source": [
    "# Load data"
   ]
  },
  {
   "cell_type": "code",
   "execution_count": 5,
   "metadata": {},
   "outputs": [],
   "source": [
    "with open('docs.txt', 'r', encoding='utf-8') as f:\n",
    "    docs = json.load(f)"
   ]
  },
  {
   "cell_type": "code",
   "execution_count": 6,
   "metadata": {},
   "outputs": [],
   "source": [
    "with open('sents.txt', 'r', encoding='utf-8') as f:\n",
    "    sents = json.load(f)"
   ]
  },
  {
   "cell_type": "code",
   "execution_count": 7,
   "metadata": {},
   "outputs": [],
   "source": [
    "docs2 = docs[:550]"
   ]
  },
  {
   "cell_type": "code",
   "execution_count": 9,
   "metadata": {},
   "outputs": [],
   "source": [
    "sents2 = []\n",
    "for s in sents:\n",
    "    if s['labels'].count(1) > 0:\n",
    "        sents2.append(s)"
   ]
  },
  {
   "cell_type": "code",
   "execution_count": 10,
   "metadata": {},
   "outputs": [],
   "source": [
    "def get_sents(doc):\n",
    "    sents = []\n",
    "    tokens = []\n",
    "    labels = []\n",
    "\n",
    "    for t, l in list(zip(doc['text'], doc['labels'])):\n",
    "        if t in ['，', '。', '？', '！']:\n",
    "\n",
    "            sents.append({\n",
    "                'tokens': tokens,\n",
    "                'labels': labels \n",
    "            })\n",
    "\n",
    "            tokens = []\n",
    "            labels = []\n",
    "        else:\n",
    "            tokens.append(t)\n",
    "            labels.append(l)\n",
    "            \n",
    "    return sents"
   ]
  },
  {
   "cell_type": "code",
   "execution_count": 11,
   "metadata": {},
   "outputs": [],
   "source": [
    "sents3 = []\n",
    "for d in docs2:\n",
    "    sents3 += get_sents(d)"
   ]
  },
  {
   "cell_type": "markdown",
   "metadata": {},
   "source": [
    "# Build model"
   ]
  },
  {
   "cell_type": "code",
   "execution_count": 12,
   "metadata": {},
   "outputs": [
    {
     "name": "stdout",
     "output_type": "stream",
     "text": [
      "[TL] InputLayer  input: (5, 20, 100)\n",
      "[TL] RNNLayer rnn: n_hidden: 50 n_steps: 20 in_dim: 3 in_shape: (5, 20, 100) cell_fn: BasicLSTMCell \n",
      "[TL]        RNN batch_size (concurrent processes): 5\n",
      "WARNING:tensorflow:From /root/anaconda3/lib/python3.6/site-packages/tensorlayer/layers/recurrent.py:218: BasicLSTMCell.__init__ (from tensorflow.python.ops.rnn_cell_impl) is deprecated and will be removed in a future version.\n",
      "Instructions for updating:\n",
      "This class is deprecated, please use tf.nn.rnn_cell.LSTMCell, which supports all the feature this cell currently has. Please replace the existing code with tf.nn.rnn_cell.LSTMCell(name='basic_lstm_cell').\n",
      "[TL]      n_params : 2\n",
      "[TL] ReshapeLayer reshape: (100, 50)\n",
      "[TL] DenseLayer  dense: 1 sigmoid\n",
      "[TL] ReshapeLayer reshape: (5, 20, 1)\n"
     ]
    }
   ],
   "source": [
    "tf.reset_default_graph()\n",
    "\n",
    "sent = tf.placeholder(tf.float32, shape=(batch_size, sent_len, vec_dim))\n",
    "label = tf.placeholder(tf.float32, shape=(batch_size, sent_len))\n",
    "\n",
    "network = tl.layers.InputLayer(sent)\n",
    "network = tl.layers.RNNLayer(\n",
    "    network, \n",
    "    cell_fn=tf.nn.rnn_cell.BasicLSTMCell, \n",
    "    n_hidden=state_dim,\n",
    "    n_steps=sent_len,\n",
    "    return_last=False)\n",
    "network = tl.layers.ReshapeLayer(network, [-1, state_dim])\n",
    "network = tl.layers.DenseLayer(network, n_units=1, act = tf.sigmoid)\n",
    "network = tl.layers.ReshapeLayer(network, [-1, sent_len, 1])\n",
    "\n",
    "outputs = network.outputs\n",
    "loss = tf.sqrt(tf.reduce_mean(tf.square(tf.subtract(tf.squeeze(outputs), label))))\n",
    "train_op = tf.train.AdadeltaOptimizer(1.0, rho=0.95, epsilon=1e-06,).minimize(loss)"
   ]
  },
  {
   "cell_type": "code",
   "execution_count": 13,
   "metadata": {},
   "outputs": [],
   "source": [
    "def get_data(sents, sent_len, vec_dim):\n",
    "    x = []\n",
    "    y = []\n",
    "\n",
    "    for s in sents:\n",
    "        tokens = s['tokens']\n",
    "        labels = s['labels']\n",
    "\n",
    "        sent = []\n",
    "        lb = []\n",
    "        for t in range(sent_len):\n",
    "            if t <= len(tokens) - 1:\n",
    "                sent.append(get_vec(tokens[t]))\n",
    "                lb.append(labels[t])\n",
    "            else:\n",
    "                sent.append([0.0]*vec_dim)\n",
    "                lb.append(0)\n",
    "        x.append(sent)\n",
    "        y.append(lb)\n",
    "\n",
    "    return np.array(x), np.array(y)"
   ]
  },
  {
   "cell_type": "code",
   "execution_count": 28,
   "metadata": {},
   "outputs": [],
   "source": [
    "X, y = get_data(sents2, sent_len, vec_dim)\n",
    "X_train = X\n",
    "y_train = y"
   ]
  },
  {
   "cell_type": "code",
   "execution_count": 33,
   "metadata": {},
   "outputs": [
    {
     "name": "stderr",
     "output_type": "stream",
     "text": [
      "/root/anaconda3/lib/python3.6/site-packages/tensorflow/python/client/session.py:1662: UserWarning: An interactive session is already active. This can cause out-of-memory errors in some cases. You must explicitly call `InteractiveSession.close()` to release resources held by the other session(s).\n",
      "  warnings.warn('An interactive session is already active. This can '\n"
     ]
    },
    {
     "name": "stdout",
     "output_type": "stream",
     "text": [
      "0 0.24766538643934688\n",
      "10 0.12938152068584668\n",
      "20 0.10457521482737216\n",
      "30 0.0894592348388377\n",
      "40 0.07863589379849145\n"
     ]
    }
   ],
   "source": [
    "sess = tf.InteractiveSession()\n",
    "tl.layers.initialize_global_variables(sess)\n",
    "\n",
    "num_epoch = 50\n",
    "for e in range(num_epoch):\n",
    "    num_step = int(X_train.shape[0] / batch_size)\n",
    "    v = 0\n",
    "    for i in range(num_step):\n",
    "        feed_dict = {\n",
    "            sent: X_train[i*batch_size:(i+1)*batch_size],\n",
    "            label: y_train[i*batch_size:(i+1)*batch_size]\n",
    "        }\n",
    "        _, loss_value, out = sess.run([train_op, loss, outputs], feed_dict=feed_dict)\n",
    "        v += loss_value\n",
    "    if e % 10 == 0:\n",
    "        print(e, v/num_step)"
   ]
  },
  {
   "cell_type": "code",
   "execution_count": 16,
   "metadata": {},
   "outputs": [],
   "source": [
    "def build_sent_html(text, labels):\n",
    "    spans = []\n",
    "    for i in range(min(len(text), len(labels))):\n",
    "        if labels[i] == 1:\n",
    "            spans.append('<span style=\"color:red;\">'+text[i]+'</span>')\n",
    "        else:\n",
    "            spans.append('<span>'+text[i]+'</span>')\n",
    "    \n",
    "    return ''.join(spans)\n",
    "\n",
    "def print_sent(text, labels):\n",
    "    display(HTML(build_sent_html(text, labels)))"
   ]
  },
  {
   "cell_type": "code",
   "execution_count": 17,
   "metadata": {},
   "outputs": [],
   "source": [
    "def print_compare_sent(s):\n",
    "    tokens = s['tokens']\n",
    "    labels = s['labels']\n",
    "    print_sent(tokens, labels)\n",
    "    \n",
    "    px, py = parse_sent(s, sent_len, vec_dim, batch_size)\n",
    "    pp = sess.run([outputs], feed_dict={\n",
    "        sent: px,\n",
    "        label: py\n",
    "    })[0][0].flatten()\n",
    "\n",
    "    pp[pp>=.5] = 1\n",
    "    pp[pp<.5] = 0\n",
    "\n",
    "    tokens = s['tokens']\n",
    "    print_sent(tokens, pp)"
   ]
  },
  {
   "cell_type": "code",
   "execution_count": 18,
   "metadata": {},
   "outputs": [],
   "source": [
    "def parse_sent(s, sent_len, vec_dim, batch_size):\n",
    "    x = []\n",
    "    y = []\n",
    "\n",
    "    tokens = s['tokens']\n",
    "    labels = s['labels']\n",
    "\n",
    "    sent = []\n",
    "    lb = []\n",
    "    for t in range(sent_len):\n",
    "        if t <= len(tokens) - 1:\n",
    "            sent.append(get_vec(tokens[t]))\n",
    "            lb.append(labels[t])\n",
    "        else:\n",
    "            sent.append([0.0]*vec_dim)\n",
    "            lb.append(0)\n",
    "    x.append(sent)\n",
    "    y.append(lb)\n",
    "    \n",
    "    return np.array(x*batch_size), np.array(y*batch_size)\n",
    "\n",
    "def predict_label(s):\n",
    "    px, py = parse_sent(s, sent_len, vec_dim, batch_size)\n",
    "    pp = sess.run([outputs], feed_dict={\n",
    "        sent: px,\n",
    "        label: py\n",
    "    })[0][0].flatten()\n",
    "\n",
    "    pp[pp>=.5] = 1\n",
    "    pp[pp<.5] = 0\n",
    "    \n",
    "    return list(pp)"
   ]
  },
  {
   "cell_type": "code",
   "execution_count": 36,
   "metadata": {},
   "outputs": [],
   "source": [
    "def compare_doc(sents):\n",
    "    htmls = ''\n",
    "    for s in sents:\n",
    "        htmls += build_sent_html(s['tokens'], s['labels']) + '，'\n",
    "    display(HTML(''.join(htmls)))\n",
    "    \n",
    "    print('\\n')\n",
    "    htmls = ''\n",
    "    for s in sents:\n",
    "        htmls += build_sent_html(s['tokens'], predict_label(s)) + '，'\n",
    "    display(HTML(''.join(htmls)))"
   ]
  },
  {
   "cell_type": "code",
   "execution_count": null,
   "metadata": {},
   "outputs": [],
   "source": []
  },
  {
   "cell_type": "markdown",
   "metadata": {},
   "source": [
    "# Visulization"
   ]
  },
  {
   "cell_type": "code",
   "execution_count": 34,
   "metadata": {},
   "outputs": [
    {
     "data": {
      "text/html": [
       "<span>因</span><span>\"</span><span style=\"color:red;\">反复</span><span style=\"color:red;\">口</span><span style=\"color:red;\">干</span><span>、</span><span style=\"color:red;\">多</span><span style=\"color:red;\">饮</span><span>、</span><span style=\"color:red;\">多尿</span><span>6</span><span>年</span>"
      ],
      "text/plain": [
       "<IPython.core.display.HTML object>"
      ]
     },
     "metadata": {},
     "output_type": "display_data"
    },
    {
     "data": {
      "text/html": [
       "<span>因</span><span>\"</span><span>反复</span><span style=\"color:red;\">口</span><span style=\"color:red;\">干</span><span>、</span><span style=\"color:red;\">多</span><span style=\"color:red;\">饮</span><span>、</span><span style=\"color:red;\">多尿</span><span>6</span><span>年</span>"
      ],
      "text/plain": [
       "<IPython.core.display.HTML object>"
      ]
     },
     "metadata": {},
     "output_type": "display_data"
    }
   ],
   "source": [
    "p = random.choice(sents2)\n",
    "print_compare_sent(p)"
   ]
  },
  {
   "cell_type": "code",
   "execution_count": 39,
   "metadata": {},
   "outputs": [
    {
     "data": {
      "text/html": [
       "<span>作者</span><span>：</span><span>徐瑞燚</span><span>方理</span><span>刚</span><span>北京协和医院</span><span>心内科</span><span>患者</span>，<span>男性</span>，<span>43</span><span>岁</span>，<span>因</span><span>“</span><span>间断</span><span>发热</span><span>9</span><span>个</span><span>月</span>，<span>乏力</span><span>6</span><span>个</span><span>月</span>，<span style=\"color:red;\">胸闷</span><span>、</span><span style=\"color:red;\">憋气</span><span>1</span><span>个</span><span>月</span>，<span>加重</span><span>9</span><span>d</span><span>”</span><span>于</span><span>2016</span><span>年</span><span>6</span><span>月</span><span>30</span><span>日</span><span>入院</span>，<span>患者</span><span>2015</span><span>年</span><span>10</span><span>月</span><span>下旬</span><span>无</span><span>明显</span><span>诱因</span><span>出现</span><span style=\"color:red;\">发热</span>，<span>最高</span><span>体温</span><span>39.5</span><span>℃</span>，<span>伴</span><span style=\"color:red;\">盗汗</span><span>、</span><span>双侧</span><span>球</span><span style=\"color:red;\">结膜</span><span style=\"color:red;\">充血</span>，<span>无</span><span>寒战</span><span>、</span><span>咳嗽</span><span>、</span><span>咳痰</span><span>等</span>，<span>当地</span><span>诊为</span><span>“</span><span>肺炎</span><span>”</span>，<span>予</span><span>“</span><span>消炎药</span><span>”</span><span>静点</span><span>后</span><span>体温</span><span>高峰</span><span>降至</span><span>37.5</span><span>℃</span>，<span>2015</span><span>年</span><span>12</span><span>月</span><span>24</span><span>日</span><span>就诊</span><span>山东</span><span>某</span><span>医院</span>，<span>查</span><span>血常规</span><span>：</span><span>白细胞</span><span>8.97</span><span>×</span><span>109</span><span>/</span><span>L</span>，<span>血红蛋白</span><span>110</span><span>g</span><span>/</span><span>L</span><span>；</span><span>血沉</span><span>111</span><span>mm</span><span>/</span><span>第</span><span>1</span><span>h</span><span>；</span><span>EB</span><span>病毒</span><span>（</span><span>EBV</span><span>）</span><span>-</span><span>DNA</span><span>4.46</span><span>×</span><span>104</span><span>拷贝</span><span>/</span><span>ml</span><span>；</span><span>胸腹</span><span>盆腔</span><span>CT</span><span>：</span><span>双肺</span><span>纤维</span><span>灶</span>，<span>双肺</span><span>支气管</span><span>扩张</span>，<span>纵隔</span><span>、</span><span>腹膜</span><span>后</span><span>淋巴结</span><span>肿大</span>，<span>心包</span><span>增厚</span>，<span>脾大</span><span>；</span><span>骨髓</span><span>涂片</span><span>：</span><span>组织细胞</span><span>较易</span><span>见</span>，<span>少数</span><span>分化</span><span>较差</span>，<span>偶见</span><span>噬</span><span>血细胞</span><span>；</span><span>活检</span><span>考虑</span><span>符合</span><span>反应</span><span>性</span><span>改变</span>，<span>考虑</span><span>“</span><span>EB</span><span>病毒感染</span><span>”</span>，<span>予阿昔洛韦</span><span>等</span><span>治疗</span>，<span>1</span><span>周后</span><span>复查</span><span>EBV</span><span>-</span><span>DNA</span><span>（</span><span>－</span><span>）</span>，<span>之后</span><span>患者</span><span>体温</span><span>逐渐</span><span>降</span><span>至</span><span>正常</span><span>范围</span>，<span>活动</span><span>耐量</span><span>基本</span><span>如常</span>，<span>2016</span><span>年</span><span>1</span><span>月</span><span>患者</span><span>逐渐</span><span>出现</span><span>双下肢</span><span>乏力</span>，<span>跑步</span><span>后</span><span>明显</span>，<span>伴肌痛</span>，<span>休息</span><span>后</span><span>缓解</span>，<span>无</span><span>明显</span><span>发热</span><span>等</span>，<span>2016</span><span>年</span><span>4</span><span>月初</span><span>患者</span><span>出现</span><span>腹泻</span>，<span>每日</span><span>1</span><span>～</span><span>2</span><span>次</span><span>糊状</span><span>便</span>，<span>伴</span><span>腹部</span><span>隐痛</span>，<span>当地</span><span>查便</span><span>潜血</span><span>（</span><span>＋</span><span>）</span><span>；</span><span>结肠镜</span><span>（</span><span>－</span><span>）</span><span>（</span><span>无</span><span>报告单</span><span>）</span><span>；</span><span>EBV</span><span>-</span><span>DNA</span><span>（</span><span>－</span><span>）</span><span>；</span><span>血清</span><span>免疫固定</span><span>电泳</span><span>：</span><span>λ</span><span>泳道</span><span>可见</span><span>异常</span><span>单克隆</span><span>条带</span>，<span>考虑</span><span>\"</span><span>胃肠功能</span><span>紊乱</span><span>\"</span>，<span>未予</span><span>特殊</span><span>治疗</span>，<span>2016</span><span>年</span><span>6</span><span>月初</span><span>患者</span><span>劳累</span><span>或</span><span>跑</span><span>200</span><span>m</span><span>左右</span><span>出现</span><span>胸闷</span><span>、</span><span>憋气</span>，<span>休息</span><span>后</span><span>缓解</span>，<span>未</span><span>在意</span>，<span>2016</span><span>年</span><span>6</span><span>月</span><span>22</span><span>日</span><span>患者</span><span>无</span><span>明显</span><span>诱因</span><span>出现</span><span>\"</span><span>怕冷</span><span>\"</span>，<span>伴</span><span>出汗</span>，<span>爬</span><span>4</span><span>层楼</span><span>出现</span><span>明显</span><span>胸闷</span><span>、</span><span>憋气</span>，<span>伴</span><span>咳嗽</span><span>、</span><span>咯</span><span>黄痰</span>，<span>休息</span><span>后</span><span>无</span><span>缓解</span>，<span>并</span><span>出现</span><span>尿量</span><span>减少</span>，<span>800</span><span>～</span><span>1</span><span>000</span><span>ml</span><span>/</span><span>d</span>，<span>夜间</span><span>可</span><span>平卧</span>，<span>无</span><span>发热</span><span>、</span><span>双下肢</span><span>水肿</span><span>等</span>，<span>就诊</span><span>当地</span><span>医院</span><span>查</span><span>超声</span><span>心动图</span><span>：</span><span>左心</span><span>增大</span><span>[</span><span>舒张</span><span>末径</span><span>（</span><span>LVED</span><span>）</span><span>60</span><span>mm</span><span>]</span><span>、</span><span>二尖瓣</span><span>中</span><span>-</span><span>大量</span><span>反流</span><span>、</span><span>三尖瓣</span><span>少量</span><span>反流</span><span>、</span><span>肺动脉</span><span>收缩压</span><span>43</span><span>mmHg</span>，<span>诊断</span><span>心功能</span><span>不全</span>，<span>对症</span><span>处理</span><span>后</span><span>症状</span><span>缓解</span><span>不</span><span>明显</span>，<span>逐渐</span><span>出现</span><span>咯</span><span>粉红色</span><span>泡沫痰</span>，<span>2016</span><span>年</span><span>6</span><span>月</span><span>30</span><span>日</span><span>就诊</span><span>我院</span><span>急诊</span>，<span>查</span><span>NT</span><span>-</span><span>proBNP</span><span>3635</span><span>pg</span><span>/</span><span>ml</span>，<span>肌钙蛋白</span><span>I</span><span>1.978</span><span>μ</span><span>g</span><span>/</span><span>L</span><span>；</span><span>血气</span><span>分析</span><span>：</span><span>pH</span><span>7.5</span>，<span>二氧化碳</span><span>分压</span><span>28.3</span><span>mmHg</span>，<span>氧分压</span><span>68.0</span><span>mmHg</span>，<span>碳酸氢</span><span>根</span><span>22.3</span><span>mmol</span><span>/</span><span>L</span>，<span>乳酸</span><span>1.3</span><span>mmol</span><span>/</span><span>L</span><span>；</span><span>心电图</span><span>：</span><span>窦性心</span><span>律</span>，<span>肢导联</span><span>低电压</span>，<span>超声</span><span>心动图</span><span>：</span><span>心肌病</span><span>变</span>，<span>LVED</span><span>67</span><span>mm</span>，<span>左室</span><span>室壁</span><span>运动</span><span>普遍</span><span>减低</span>，<span>左室</span><span>后壁</span><span>及</span><span>侧壁</span><span>中部</span><span>无</span><span>运动</span>，<span>重度</span><span>二</span><span>、</span><span>三尖瓣</span><span>关闭不全</span>，<span>左室</span><span>收缩</span><span>功能</span><span>减低</span>，<span>双</span><span>平面</span><span>法左室</span><span>射血</span><span>分数</span><span>（</span><span>LVEF</span><span>）</span><span>32%</span>，<span>肺动脉</span><span>收缩压</span><span>54</span><span>mmHg</span>，<span>予</span><span>强心</span><span>、</span><span>利尿</span><span>等</span><span>对症</span><span>治疗</span><span>后</span><span>患者</span><span style=\"color:red;\">胸闷</span><span>、</span><span style=\"color:red;\">憋气</span><span>无</span><span>缓解</span>，<span>期间</span><span>发作</span><span>阵发性</span><span>心房颤动</span>，<span>为</span><span>进一步</span><span>治疗</span><span>收入</span><span>急诊</span><span>重症</span><span>监护室</span>，<span>患者</span><span>起病</span><span>以来</span>，<span>体重减轻</span><span>约</span><span>15</span><span>kg</span>，<span>病程</span><span>中</span><span>否认</span><span>光</span><span>过敏</span><span>、</span><span>口眼</span><span>干</span><span>、</span><span>口腔溃疡</span><span>、</span><span>关节痛</span><span>、</span><span>雷诺氏</span><span>现象</span><span>等</span>，<span>既往</span><span>史</span><span>：</span><span>初中</span><span>时</span><span>曾</span><span>患</span><span>黄疸型</span><span>肝炎</span>，<span>后</span><span>治愈</span>，<span>否认</span><span>乙肝</span><span>病史</span>，<span>吸烟</span><span>20</span><span>余年</span>，<span>平均</span><span>每日</span><span>30</span><span>支</span><span>；</span><span>饮</span><span>白酒</span><span>7</span><span>～</span><span>8</span><span>年</span>，<span>平均</span><span>每日</span><span>半斤</span><span>（</span><span>合</span><span>乙醇</span><span>100</span><span>g</span><span>）</span><span>；</span><span>已</span><span>戒烟</span><span>酒</span><span>9</span><span>个</span><span>月</span>，<span>婚育</span><span>、</span><span>家族史</span><span>无</span><span>特殊</span>，<span>入室</span><span>查体</span><span>：</span><span>体温</span><span>36.8</span><span>℃</span>，<span>血压</span><span>90</span><span>/</span><span>60</span><span>mmHg</span><span>（</span><span>应用</span><span>米力农</span><span>）</span>，<span>心率</span><span>120</span><span>次</span><span>/</span><span>min</span>，<span>氧</span><span>饱和度</span><span>95%</span><span>（</span><span>鼻</span><span>导管</span><span>吸氧</span><span>2</span><span>L</span><span>/</span><span>min</span><span>）</span>，<span>呼吸</span><span>35</span><span>次</span><span>/</span><span>min</span>，<span>双上</span><span>肺</span><span>可闻</span><span>及</span><span>湿</span><span>啰</span><span>音</span>，<span>双下</span><span>肺</span><span>呼吸</span><span>音低</span>，<span>心界</span><span>左下</span><span>大</span>，<span>心律</span><span>齐</span>，<span>二尖瓣</span><span>区</span><span>可闻及</span><span>Ⅳ</span><span>/</span><span>6</span><span>级</span><span>收缩期</span><span>杂音</span>，<span>腹软</span>，<span>无</span><span>压痛</span>，<span>双下肢</span><span>无</span><span>水肿</span>，<span>分析</span><span>患者</span><span>主要</span><span>临床表现</span><span>为</span><span>：</span><span>（</span><span>1</span><span>）</span><span>前</span><span>6</span><span>～</span><span>9</span><span>个</span><span>月</span><span>全身</span><span>症状</span><span>（</span><span>腹痛</span><span>、</span><span>腹泻</span><span>、</span><span>乏力</span><span>、</span><span>肌痛</span><span>、</span><span>体重减轻</span><span>）</span>，<span>近</span><span>1</span><span>个</span><span>月</span><span>收缩</span><span>性</span><span>心力衰竭</span>，<span>曾</span><span>大量</span><span>吸烟</span><span>饮酒</span><span>；</span><span>（</span><span>2</span><span>）</span><span>有</span><span>EB</span><span>病毒感染</span><span>证据</span>，<span>M</span><span>蛋白</span><span>阳性</span><span>；</span><span>（</span><span>3</span><span>）</span><span>全</span><span>心</span><span>扩大</span>，<span>室壁</span><span>运动</span><span>减低</span>，<span>重度</span><span>二</span><span>、</span><span>三尖瓣</span><span>关闭不全</span>，<span>LVEF</span><span>明显降低</span>，<span>病因</span><span>方面</span><span>需要</span><span>考虑</span><span>以下</span><span>几种</span><span>可能</span><span>：</span><span>（</span><span>1</span><span>）</span><span>病毒性</span><span>心肌炎</span><span>及</span><span>扩张型</span><span>心肌病</span><span>：</span><span>患者</span><span>以</span><span>发热</span><span>起病</span>，<span>EBV</span><span>-</span><span>DNA</span><span>（</span><span>＋</span><span>）</span>，<span>抗病毒</span><span>治疗</span><span>有效</span>，<span>考虑</span><span>EB</span><span>病毒感染</span>，<span>部分</span><span>扩张型</span><span>心肌病</span><span>源自</span><span>病毒性</span><span>心肌炎</span>，<span>尤其</span><span>是</span><span>肠道病毒</span><span>（</span><span>埃可</span><span>、</span><span>柯萨奇</span><span>病毒</span><span>等</span><span>）</span><span>感染</span>，<span>初始</span><span>病因</span><span>不明</span><span>的</span><span>心肌病</span><span>中</span><span>9%</span><span>由</span><span>心肌炎</span><span>所致</span>，<span>但本</span><span>患者</span><span>EB</span><span>病毒感染</span><span>与</span><span>心室</span><span>扩大</span><span>、</span><span>收缩</span><span>功能</span><span>减低</span><span>间</span><span>的</span><span>关系</span><span>很难</span><span>得到</span><span>明确</span><span>证据</span><span>；</span><span>（</span><span>2</span><span>）</span><span>酒精性</span><span>心肌病</span><span>：</span><span>患者</span><span>有</span><span>长期</span><span>大量</span><span>饮酒</span><span>史</span><span>、</span><span>左心室</span><span>扩大</span><span>及</span><span>LVEF</span><span>降低</span>，<span>还</span><span>需</span><span>考虑</span><span>酒精性</span><span>心肌病</span><span>的</span><span>可能</span>，<span>乙醇</span><span>摄入量</span><span>大于</span><span>80</span><span>g</span><span>/</span><span>d</span><span>持续</span><span>至少</span><span>5</span><span>年</span>，<span>酒精性</span><span>心肌病</span><span>的</span><span>发生</span><span>风险</span><span>增加</span>，<span>酒精性</span><span>心肌病</span><span>具有</span><span>可逆性</span>，<span>其</span><span>诊断</span><span>是</span><span>一种</span><span>排除</span><span>性</span><span>诊断</span>，<span>本</span><span>患者</span><span>入</span><span>我院</span><span>时</span><span>已</span><span>戒酒</span><span>9</span><span>个</span><span>月余</span>，<span>病情</span><span>仍</span><span>进展</span>，<span>不</span><span>支持</span><span>酒精性</span><span>心肌病</span><span>的</span><span>诊断</span><span>；</span><span>（</span><span>3</span><span>）</span><span>缺血性</span><span>心肌病</span><span>：</span><span>患者</span><span>为</span><span>男性</span><span>、</span><span>长期</span><span>大量</span><span>吸烟</span>，<span>为</span><span>冠心病</span><span>高危</span><span>人群</span>，<span>左室</span><span>节段</span><span>性</span><span>无</span><span>运动</span>，<span>存在</span><span>缺血性</span><span>心肌病</span><span>可能</span>，<span>需</span><span>进一步</span><span>检查</span><span>除外</span><span>；</span><span>（</span><span>4</span><span>）</span><span>心肌</span><span>淀粉样变</span><span>：</span><span>患者</span><span>充血性</span><span>心力衰竭</span><span>、</span><span>心电图</span><span>肢导联</span><span>低电压</span><span>、</span><span>血清</span><span>M</span><span>蛋白</span>，<span>需</span><span>警惕</span><span>心肌</span><span>淀粉样变</span>，<span>但</span><span>心肌</span><span>淀粉样变</span><span>多</span><span>表现</span><span>为</span><span>限制型</span><span>心肌病</span>，<span>常</span><span>出现</span><span>心室</span><span>壁</span><span>增厚</span><span>、</span><span>心肌</span><span>颗粒状</span><span>回声</span><span>增强</span><span>、</span><span>心房</span><span>扩大</span>，<span>可</span><span>同时</span><span>有</span><span>心包</span><span>积液</span><span>、</span><span>瓣膜</span><span>增厚</span>，<span>很少</span><span>表现</span><span>为</span><span>扩张型</span><span>心肌病</span><span>样</span><span>改变</span><span>；</span><span>（</span><span>5</span><span>）</span><span>系统性</span><span>疾病</span><span>致</span><span>心肌</span><span>损害</span><span>：</span><span>患者</span><span>存在</span><span>发热</span><span>、</span><span>腹痛</span><span>、</span><span>腹泻</span>，<span>便</span><span>潜血</span><span>阳性</span>，<span>乏力</span><span>肌痛</span><span>、</span><span>体重减轻</span><span>、</span><span>肺部</span><span>病灶</span><span>、</span><span>心肌</span><span>受累</span><span>等</span><span>众多</span><span>临床表现</span>，<span>需要</span><span>考虑</span><span>系统性</span><span>疾病</span><span>尤其</span><span>是</span><span>系统性</span><span>血管炎</span><span>可能性</span>，<span>系统性</span><span>血管炎</span><span>是</span><span>一个</span><span>复杂</span><span>的</span><span>疾病谱</span>，<span>因</span><span>病种</span><span>不同</span>，<span>受累</span><span>血管</span><span>大小</span><span>、</span><span>类型</span><span>和</span><span>部位</span><span>不同</span>，<span>临床表现</span><span>各异</span>，<span>常见</span><span>表现</span><span>包括</span><span>乏力</span><span>、</span><span>发热</span><span>、</span><span>关节痛</span><span>、</span><span>腹痛</span><span>、</span><span>高血压</span><span>、</span><span>肾功能</span><span>不</span><span>全及</span><span>神经系统</span><span>功能障碍</span><span>等</span>，<span>但是</span><span>这些</span><span>表现</span><span>通常</span><span>敏感性</span><span>和</span><span>特异性</span><span>不高</span>，<span>需</span><span>进一步</span><span>进行</span><span>血管</span><span>方面</span><span>的</span><span>影像学</span><span>检查</span>，<span>入院</span><span>后</span><span>实验室</span><span>检查</span><span>：</span><span>血常规</span><span>：</span><span>白细胞</span><span>25.14</span><span>×</span><span>109</span><span>/</span><span>L</span>，<span>中性</span><span>88%</span>，<span>血红蛋白</span><span>139</span><span>g</span><span>/</span><span>L</span>，<span>血小板</span><span>387</span><span>×</span><span>109</span><span>/</span><span>L</span><span>；</span><span>尿常规</span><span>：</span><span>蛋白</span><span>（</span><span>－</span><span>）</span><span>；</span><span>多次</span><span>大便</span><span>潜血</span><span>（</span><span>＋</span><span>）</span><span>；</span><span>血</span><span>生化</span><span>检查</span><span>：</span><span>血钾</span><span>3.7</span><span>mmol</span><span>/</span><span>L</span>，<span>肌酐</span><span>79</span><span>μ</span><span>mol</span><span>/</span><span>L</span>，<span>白蛋白</span><span>30</span><span>g</span><span>/</span><span>L</span>，<span>总</span><span>胆红素</span><span>22</span><span>μ</span><span>mol</span><span>/</span><span>L</span><span>；</span><span>总</span><span>胆固醇</span><span>3.65</span><span>mmol</span><span>/</span><span>L</span>，<span>三酰</span><span>甘油</span><span>0.94</span><span>mmol</span><span>/</span><span>L</span>，<span>高密度</span><span>脂蛋白</span><span>胆固醇</span><span>（</span><span>HDL</span><span>-</span><span>C</span><span>）</span><span>0.67</span><span>mmol</span><span>/</span><span>L</span>，<span>低密度</span><span>脂蛋白</span><span>胆固醇</span><span>（</span><span>LDL</span><span>-</span><span>C</span><span>）</span><span>2.44</span><span>mmol</span><span>/</span><span>L</span>，<span>肌酸激酶</span><span>404</span><span>U</span><span>/</span><span>L</span>，<span>肌酸激酶</span><span>同工酶</span><span>（</span><span>CKMB</span><span>-</span><span>mass</span><span>）</span><span>28.6</span><span>μ</span><span>g</span><span>/</span><span>L</span>，<span>肌钙蛋白</span><span>I</span><span>6.378</span><span>μ</span><span>g</span><span>/</span><span>L</span><span>；</span><span>NT</span><span>-</span><span>proBNP</span><span>7</span><span>590</span><span>pg</span><span>/</span><span>ml</span>，<span>D</span><span>-</span><span>二聚体</span><span>1.76</span><span>mg</span><span>/</span><span>L</span><span>；</span><span>乙肝</span><span>表面抗原</span><span>、</span><span>丙肝</span><span>抗体</span><span>、</span><span>人</span><span>免疫</span><span>缺陷</span><span>病毒</span><span>抗体</span><span>均</span><span>（</span><span>－</span><span>）</span><span>；</span><span>降钙素</span><span>原</span><span>（</span><span>PCT</span><span>）</span><span>0.16</span><span>ng</span><span>/</span><span>ml</span><span>；</span><span>结核</span><span>感染</span><span>T</span><span>细胞</span><span>斑点</span><span>试验</span><span>即</span><span>T</span><span>-</span><span>spot</span><span>.</span><span>TB</span><span>（</span><span>－</span><span>）</span><span>；</span><span>3</span><span>次</span><span>EBV</span><span>-</span><span>DNA</span><span>（</span><span>－</span><span>）</span><span>；</span><span>细小</span><span>病毒</span><span>B19</span><span>-</span><span>IgG</span><span>（</span><span>－</span><span>）</span><span>；</span><span>痰</span><span>培养</span><span>：</span><span>鲍曼</span><span>不动</span><span>杆菌</span><span>、</span><span>念珠菌</span><span>；</span><span>血</span><span>培养</span><span>（</span><span>－</span><span>）</span><span>；</span><span>血清蛋白</span><span>电泳</span><span>：</span><span>M</span><span>蛋白</span><span>1.9</span><span>g</span><span>/</span><span>L</span><span>；</span><span>血清</span><span>免疫固定</span><span>电泳</span><span>：</span><span>轻链</span><span>λ</span><span>型</span><span>（</span><span>＋</span><span>）</span><span>、</span><span>IgG</span><span>λ</span><span>（</span><span>＋</span><span>）</span><span>；</span><span>血</span><span>轻链</span><span>：</span><span>λ</span><span>801</span><span>mg</span><span>/</span><span>dl</span>，<span>K</span><span>/</span><span>λ</span><span>1.21</span><span>；</span><span>24</span><span>h</span><span>尿</span><span>轻链</span><span>：</span><span>K</span><span>13.2</span><span>mg</span><span>/</span><span>dl</span>，<span>抗核</span><span>抗体</span><span>、</span><span>盐水</span><span>可</span><span>提取</span><span>性核</span><span>抗原</span><span>的</span><span>抗体</span><span>（</span><span>抗</span><span>ENA</span><span>）</span><span>、</span><span>抗</span><span>中性</span><span>粒细胞</span><span>胞</span><span>浆</span><span>抗体</span><span>（</span><span>ANCA</span><span>）</span><span>、</span><span>补体</span><span>均</span><span>（</span><span>－</span><span>）</span><span>；</span><span>血沉</span><span>18</span><span>～</span><span>51</span><span>mm</span><span>/</span><span>第</span><span>1</span><span>h</span>，<span>高敏</span><span>C</span><span>反应</span><span>蛋白</span><span>9.51</span><span>mg</span><span>/</span><span>L</span><span>；</span><span>白介素</span><span>-</span><span>6</span><span>：</span><span>7.9</span><span>pg</span><span>/</span><span>ml</span>，<span>肿瘤</span><span>坏死</span><span>因子</span><span>（</span><span>TNF</span><span>-</span><span>α</span><span>）</span><span>14.6</span><span>pg</span><span>/</span><span>ml</span>，<span>患者</span><span>在</span><span>急诊</span><span>重症</span><span>监护室</span><span>住院</span><span>期间</span><span>出现</span><span>右</span><span>下肢</span><span>疼痛</span>，<span>右足</span><span>皮温</span><span>变凉</span>，<span>苍白</span>，<span>右侧</span><span>足</span><span>背</span><span>动脉</span><span>搏动</span><span>消失</span>，<span>遂行</span><span>外周血</span><span>管</span><span>超声</span><span>：</span><span>右侧</span><span>胫前</span><span>动脉</span><span>及胫后</span><span>动脉</span><span>中远</span><span>段</span><span>重度</span><span>狭窄</span><span>或</span><span>闭塞</span><span>不</span><span>除外</span>，<span>超声</span><span>心动图</span><span>：</span><span>心肌病</span><span>变</span>，<span>节段</span><span>性室</span><span>壁</span><span>运动</span><span>异常</span><span>（</span><span>左室</span><span>后壁</span><span>中部</span><span>、</span><span>侧壁</span><span>中部</span><span>）</span>，<span>全</span><span>心</span><span>增大</span><span>（</span><span>LVED</span><span>74</span><span>mm</span><span>）</span>，<span>重度</span><span>二尖瓣</span><span>关闭不全</span>，<span>重度</span><span>三尖瓣</span><span>关闭不全</span>，<span>轻度</span><span>肺动脉</span><span>高压</span>，<span>左室</span><span>收缩</span><span>功能</span><span>减低</span><span>（</span><span>双</span><span>平面</span><span>LVEF</span><span>39%</span><span>）</span>，<span>左室</span><span>限制性</span><span>舒张</span><span>功能</span><span>减低</span><span>（</span><span>图</span><span>1</span><span>）</span>，<span>图</span><span>1</span><span>超声</span><span>心动图</span><span>示二</span><span>、</span><span>三尖瓣</span><span>反流</span><span>胸部</span><span>CT</span><span>：</span><span>双</span><span>肺门</span><span>周围</span><span>大</span><span>片状</span><span>磨</span><span>玻璃</span><span>影</span>，<span>肺水肿</span><span>不</span><span>除外</span>，<span>双侧</span><span>胸腔</span><span>积液</span><span>伴肺</span><span>组织</span><span>膨胀</span><span>不全</span>，<span>少量</span><span>心包</span><span>积液</span><span>；</span><span>全身</span><span>MR</span><span>弥散</span><span>加权</span><span>成像</span><span>未见</span><span>肿瘤</span><span>证据</span>，<span>进一步</span><span>行腹盆</span><span>CTA</span><span>：</span><span>肝</span><span>总</span><span>动脉</span><span>及</span><span>脾</span><span>动脉</span><span>管壁增</span><span>厚</span>，<span>脾</span><span>动脉</span><span>中远</span><span>段</span><span>不规则</span><span>轻中度</span><span>狭窄</span>，<span>肠系膜</span><span>上</span><span>动脉</span><span>分支</span><span>动脉</span><span>管壁增</span><span>厚</span>，<span>远端</span><span>分支</span><span>纤细</span>，<span>双</span><span>肾动脉</span><span>分支</span><span>纤细</span>，<span>双侧</span><span>髂</span><span>内</span><span>动脉</span><span>末端</span><span>分支</span><span>纤细</span>，<span>脾脏</span><span>局部</span><span>梗死</span><span>可能</span>，<span>心肌</span><span>灌注</span><span>延迟</span><span>成像</span><span>动态</span><span>MRI</span><span>：</span><span>左室</span><span>中段</span><span>及近</span><span>心尖</span><span>段侧</span><span>下壁</span><span>、</span><span>心尖</span><span>部</span><span>心肌</span><span>节段</span><span>性</span><span>变薄</span>，<span>运动</span><span>减低</span><span>伴</span><span>心内膜</span><span>下</span><span>静息</span><span>首过</span><span>灌注</span><span>缺损</span><span>及</span><span>透壁</span><span>延迟</span><span>强化</span>，<span>符合</span><span>心肌梗死</span><span>后</span><span>改变</span>，<span>余部</span><span>左室</span><span>心肌</span><span>心内膜</span><span>下</span><span>多发</span><span>节段</span><span>性线样</span><span>及</span><span>斑片样</span><span>延迟</span><span>强化</span>，<span>首先</span><span>考虑</span><span>缺血性</span><span>心肌病</span><span>变</span><span>；</span><span>左</span><span>、</span><span>右室</span><span>收缩</span><span>功能</span><span>减低</span>，<span>LVEF</span><span>35.5%</span>，<span>右室</span><span>EF</span><span>37.3%</span>，<span>PET</span><span>/</span><span>CT</span><span>心肌</span><span>代谢</span><span>显像</span><span>：</span><span>静息</span><span>心肌</span><span>显像</span><span>所示</span><span>左室</span><span>心尖</span><span>、</span><span>下壁</span><span>心尖</span><span>、</span><span>前壁</span><span>心尖</span><span>、</span><span>间隔</span><span>心尖</span><span>及</span><span>前后</span><span>侧壁</span><span>中部</span><span>血流</span><span>灌注</span><span>缺损</span><span>区未见</span><span>心肌</span><span>存活</span>，<span>静息</span><span>心肌</span><span>显像</span><span>所示</span><span>左室</span><span>下壁基</span><span>底部</span><span>及后</span><span>间隔</span><span>（</span><span>中部</span><span>、</span><span>基</span><span>底部</span><span>）</span><span>血流</span><span>灌注</span><span>减低</span><span>区</span><span>可见</span><span>少量</span><span>心肌</span><span>存活</span><span>；</span><span>冠状动脉</span><span>造影</span><span>：</span><span>左</span><span>主干</span><span>斑块</span><span>；</span><span>前降</span><span>支近</span><span>段</span><span>弥漫</span><span>斑块</span><span>伴</span><span>扩张</span>，<span>中段</span><span>发出</span><span>第一</span><span>对角</span><span>支后</span><span>弥漫</span><span>狭窄</span>，<span>至远段</span><span>100%</span><span>闭塞</span><span>；</span><span>对角</span><span>支</span><span>弥漫</span><span>斑块</span>，<span>弥漫</span><span>狭窄</span><span>最重</span><span>90%</span>，<span>间隔</span><span>支</span><span>弥漫</span><span>斑块</span><span>狭窄</span><span>最重</span><span>90%</span>，<span>可见</span><span>瘤样</span><span>扩张</span>，<span>TIMI</span><span>血流</span><span>Ⅲ</span><span>级</span><span>；</span><span>中间</span><span>支</span><span>开口</span><span>狭窄</span><span>80%</span>，<span>近段</span><span>瘤样</span><span>扩张</span>，<span>远段</span><span>弥漫</span><span>纤细</span>，<span>TIMI</span><span>血流</span><span>Ⅲ</span><span>级</span><span>；</span><span>回旋</span><span>支近</span><span>中段</span><span>弥漫</span><span>斑块</span><span>伴</span><span>扩张</span>，<span>远段</span><span>100%</span><span>闭塞</span><span>；</span><span>第一</span><span>钝</span><span>缘支</span><span>细小</span>，<span>第二</span><span>、</span><span>三钝</span><span>缘支</span><span>纤细</span>，<span>弥漫</span><span>狭窄</span><span>最重</span><span>90%</span>，<span>TIMI</span><span>血流</span><span>Ⅲ</span><span>级</span><span>；</span><span>右</span><span>冠脉</span><span>开口</span><span>狭窄</span><span>50%</span>，<span>全程</span><span>斑块</span><span>伴</span><span>扩张</span>，<span>TIMI</span><span>血流</span><span>Ⅲ</span><span>级</span><span>；</span><span>后</span><span>降支</span><span>中远</span><span>段</span><span>弥漫</span><span>变细</span>，<span>TIMI</span><span>血流</span><span>Ⅲ</span><span>级</span><span>；</span><span>左室</span><span>后</span><span>支自</span><span>开口</span><span>次全</span><span>狭窄</span>，<span>TIMI</span><span>血流</span><span>Ⅰ</span><span>级</span><span>（</span><span>图</span><span>2</span><span>）</span>，<span>图</span><span>2</span><span>冠状动脉</span><span>造影</span><span>示</span><span>冠状动脉</span><span>三支</span><span>病变</span>，<span>弥漫</span><span>扩张</span><span>、</span><span>瘤样</span><span>扩张</span><span>及</span><span>狭窄</span>，<span>远段</span><span>纤细</span><span>主动脉</span><span>分支</span><span>选择性</span><span>造影</span><span>结果</span><span>：</span><span>头臂</span><span>干</span><span>、</span><span>右侧</span><span>颈</span><span>总</span><span>动脉</span><span>、</span><span>双侧</span><span>锁骨</span><span>下</span><span>动脉</span><span>及</span><span>双侧</span><span>椎动脉</span><span>未见</span><span>明显</span><span>异常</span><span>；</span><span>双侧</span><span>乳内</span><span>动脉</span><span>弥漫</span><span>斑块</span>，<span>开口</span><span>狭窄</span><span>50%</span>，<span>中段</span><span>轻度</span><span>瘤样</span><span>扩张</span><span>；</span><span>腹腔</span><span>干</span><span>及其</span><span>分支</span><span>未见</span><span>明显</span><span>异常</span><span>；</span><span>双</span><span>肾动脉</span><span>主干</span><span>未见</span><span>明显</span><span>异常</span>，<span>远段</span><span>分支</span><span>血管</span><span>纤细</span><span>（</span><span>图</span><span>3</span><span>）</span>，<span>图</span><span>3</span><span>肾动脉</span><span>造影</span><span>示双</span><span>肾动脉</span><span>主干</span><span>未见</span><span>明显</span><span>异常</span>，<span>远段</span><span>分支</span><span>血管</span><span>纤细</span><span>于</span><span>前降</span><span>支及</span><span>回旋</span><span>支</span><span>分别</span><span>行</span><span>OCT</span><span>检查</span><span>：</span><span>血管</span><span>壁</span><span>局部</span><span>可见</span><span>内膜</span><span>增厚</span>，<span>内膜</span><span>下未见</span><span>明确</span><span>斑块</span>，<span>胸水</span><span>常规</span><span>：</span><span>白细胞</span><span>733</span><span>×</span><span>106</span><span>/</span><span>L</span>，<span>单核</span><span>81.0%</span>，<span>黎氏</span><span>试验</span><span>（</span><span>＋</span><span>）</span><span>；</span><span>蛋白</span><span>13</span><span>g</span><span>/</span><span>L</span><span>；</span><span>乳糜</span><span>试验</span><span>（</span><span>－</span><span>）</span><span>；</span><span>病原学</span><span>（</span><span>－</span><span>）</span><span>；</span><span>胸水</span><span>细胞学</span><span>：</span><span>未见瘤</span><span>细胞</span>，<span>骨髓</span><span>涂片</span><span>及</span><span>活检</span><span>未见</span><span>明显</span><span>异常</span><span>；</span><span>骨髓</span><span>、</span><span>齿龈</span><span>、</span><span>腹部</span><span>脂肪</span><span>活检</span><span>刚果红</span><span>染色</span><span>（</span><span>－</span><span>）</span>，<span>分析</span><span>患者</span><span>的</span><span>免疫</span><span>指标</span><span>及</span><span>补体</span><span>均</span><span>正常</span>，<span>不</span><span>支持</span><span>红斑狼疮</span><span>等</span><span>免疫性</span><span>疾病</span>，<span>多</span><span>部位</span><span>活检</span><span>刚果红</span><span>阴性</span><span>不</span><span>支持</span><span>淀粉样变</span><span>性及</span><span>多发性</span><span>骨髓瘤</span><span>的</span><span>诊断</span>，<span>影像学</span><span>检查</span><span>发现</span><span>冠状动脉</span><span>多支</span><span>血管</span><span>、</span><span>双侧</span><span>乳内</span><span>动脉</span><span>、</span><span>腹腔</span><span>动脉</span><span>（</span><span>肝</span><span>总</span><span>动脉</span><span>、</span><span>脾</span><span>动脉</span><span>中远</span><span>段</span><span>、</span><span>肠系膜</span><span>上</span><span>动脉</span><span>分支</span><span>动脉</span><span>、</span><span>双</span><span>肾动脉</span><span>分支</span><span>）</span><span>、</span><span>双侧</span><span>髂</span><span>内</span><span>动脉</span><span>末端</span><span>分支</span><span>及</span><span>下肢</span><span>动脉</span><span>（</span><span>胫前</span><span>动脉</span><span>及胫后</span><span>动脉</span><span>中远</span><span>段</span><span>）</span><span>存在</span><span>不同</span><span>程度</span><span>纤细</span><span>、</span><span>狭窄</span><span>、</span><span>瘤样</span><span>扩张</span><span>或</span><span>闭塞</span>，<span>本</span><span>患者</span><span>虽</span><span>有</span><span>动脉</span><span>粥样</span><span>硬化</span><span>危险</span><span>因素</span><span>包括</span><span>男性</span><span>、</span><span>大量</span><span>吸烟</span><span>及</span><span>HDL</span><span>-</span><span>C</span><span>降低</span>，<span>但</span><span>冠状动脉</span><span>呈</span><span>狭窄</span><span>与</span><span>扩张</span><span>交替</span><span>、</span><span>三支</span><span>血管</span><span>远端</span><span>突然</span><span>纤细</span><span>不</span><span>符合</span><span>典型</span><span>的</span><span>冠心病</span><span>表现</span>，<span>全身</span><span>广泛</span><span>多发</span><span>中等</span><span>血管</span><span>受累</span>，<span>即使</span><span>可能</span><span>有</span><span>部分</span><span>动脉</span><span>粥样</span><span>硬化</span><span>病变</span><span>的</span><span>存在</span>，<span>但</span><span>更</span><span>符合</span><span>血管炎</span><span>的</span><span>可能</span>，<span>本例</span><span>患者</span><span>存在</span><span>体重</span><span>下降</span><span>、</span><span>双下肢</span><span>乏力</span><span>伴肌痛</span><span>和</span><span>特征性</span><span>动脉</span><span>造影</span><span>异常</span>，<span>符合</span><span>美国</span><span>风湿病学</span><span>会</span><span>关于</span><span>结节性</span><span>多</span><span>动脉炎</span><span>（</span><span>polyarteritis</span><span>nodosa</span>，<span>PAN</span><span>）</span><span>的</span><span>诊断</span><span>标准</span>，<span>PAN</span><span>是</span><span>一种</span><span>系统性</span><span>坏死性</span><span>血管炎</span>，<span>通常</span><span>累及</span><span>中型</span><span>和</span><span>小型</span><span>肌性</span><span>动脉</span>，<span>与</span><span>抗</span><span>中性</span><span>粒细胞</span><span>胞</span><span>浆</span><span>抗体</span><span>无</span><span>相关性</span>，<span>Chapel</span><span>Hill</span><span>共识</span><span>会议</span><span>将</span><span>PAN</span><span>定义</span><span>为</span><span>：</span><span>中</span><span>小动脉</span><span>坏死性</span><span>炎症</span><span>不伴</span><span>肾小球</span><span>肾炎</span><span>或微</span><span>动脉</span><span>、</span><span>毛细血管</span><span>或微</span><span>静脉</span><span>的</span><span>血管炎</span>，<span>好发</span><span>人群</span><span>为</span><span>中老年人</span>，<span>男性</span><span>居多</span>，<span>多数</span><span>PAN</span><span>病例</span><span>是</span><span>特发性</span><span>的</span>，<span>其</span><span>发病</span><span>机制</span><span>尚</span><span>不</span><span>明确</span>，<span>炎症</span><span>造成</span><span>血管</span><span>壁</span><span>增厚</span><span>和</span><span>血管</span><span>内膜</span><span>增生</span><span>可</span><span>引起</span><span>管腔</span><span>狭窄</span>，<span>血流</span><span>减少</span>，<span>受累</span><span>血管</span><span>容易</span><span>形成</span><span>血栓</span>，<span>从而</span><span>导致</span><span>组织</span><span>缺血</span><span>或</span><span>梗死</span>，<span>另一方面</span><span>炎症</span><span>还</span><span>可</span><span>使</span><span>血管</span><span>壁</span><span>变薄</span>，<span>内膜</span><span>和</span><span>外</span><span>弹力</span><span>层</span><span>的</span><span>破坏</span><span>导致</span><span>动脉</span><span>扩张</span><span>或</span><span>动脉瘤</span><span>形成</span>，<span>PAN</span><span>通常</span><span>是</span><span>临床</span><span>诊断</span>，<span>需要</span><span>首先</span><span>排除</span><span>类似</span><span>的</span><span>其他</span><span>疾病</span>，<span>PAN</span><span>患者</span><span>常</span><span>伴有</span><span>全身</span><span>症状</span><span>（</span><span>如</span><span>疲劳</span><span>、</span><span>体重减轻</span><span>、</span><span>乏力</span><span>、</span><span>发热</span><span>、</span><span>关节痛</span><span>等</span><span>）</span><span>和</span><span>多</span><span>系统</span><span>受累</span><span>表现</span>，<span>可</span><span>累及</span><span>任何</span><span>器官</span>，<span>肾脏</span><span>、</span><span>皮肤</span><span>、</span><span>关节</span><span>、</span><span>肌肉</span><span>、</span><span>神经</span><span>和</span><span>胃肠道</span><span>常</span><span>受累</span>，<span>北京协和医院</span><span>曾</span><span>总结</span><span>65</span><span>例</span><span>结节性</span><span>多</span><span>动脉炎</span><span>病例</span>，<span>最</span><span>常</span><span>受累</span><span>的</span><span>是</span><span>皮肤</span><span>（</span><span>79%</span><span>）</span><span>和</span><span>肾脏</span><span>（</span><span>68%</span><span>）</span>，<span>心脏</span><span>受累</span><span>占</span><span>17.2%</span>，<span>PAN</span><span>临床表现</span><span>为</span><span>受累</span><span>器官</span><span>或</span><span>组织</span><span>慢性</span><span>缺血</span><span>或</span><span>为</span><span>动脉瘤</span><span>破裂</span><span>所致</span><span>的</span><span>出血</span>，<span>甚至</span><span>出现</span><span>危及</span><span>生命</span><span>的</span><span>急性</span><span>并发症</span>，<span>因</span><span>累及</span><span>不同</span><span>血管</span><span>临床表现</span><span>各异</span><span>、</span><span>多样</span>，<span>尸检</span><span>发现</span><span>肾脏</span><span>是</span><span>最常</span><span>受累</span><span>的</span><span>器官</span>，<span>肾动脉</span><span>的</span><span>分支</span><span>或</span><span>肾内</span><span>血管</span><span>受累</span>，<span>约</span><span>10%</span><span>患者</span><span>的</span><span>冠状动脉</span><span>血管</span><span>受累</span>，<span>冠状动脉</span><span>受累</span><span>可以</span><span>引起</span><span>冠状动脉</span><span>血管</span><span>闭塞</span><span>或瘤样</span><span>扩张</span>，<span>但</span><span>导致</span><span>心肌梗死</span><span>的</span><span>病例</span><span>非常</span><span>少见</span><span>（</span><span>部分</span><span>文献</span><span>报道</span><span>为</span><span>2%</span><span>）</span>，<span>冠状动脉</span><span>狭窄</span><span>或</span><span>闭塞</span><span>导致</span><span>心肌缺血</span>，<span>因此</span><span>冠状动脉</span><span>血管炎</span><span>也</span><span>可</span><span>导致</span><span>缺血性</span><span>心肌病</span>，<span>其</span><span>与</span><span>肾脏</span><span>疾病</span><span>导致</span><span>的</span><span>高血压</span><span>都</span><span>可能</span><span>引起</span><span>心力衰竭</span>，<span>本例</span><span>患者</span><span>发热</span>，<span>反复</span><span>腹痛</span>，<span>大便</span><span>潜血</span><span>阳性</span>，<span>应</span><span>考虑</span><span>PAN</span><span>所致</span>，<span>腹痛</span><span>可以</span><span>是</span><span>肠系膜</span><span>动脉炎</span><span>的</span><span>早期</span><span>表现</span>，<span>由于</span><span>食物</span><span>摄入</span><span>减少</span><span>和</span><span>（</span><span>或</span><span>）</span><span>吸收</span><span>不良</span>，<span>可</span><span>导致</span><span>体重减轻</span>，<span>对于</span><span>疑似</span><span>有</span><span>结节性</span><span>多</span><span>动脉炎</span><span>尤其</span><span>是</span><span>伴</span><span>腹痛</span><span>的</span><span>患者</span>，<span>应</span><span>考虑</span><span>肠系膜</span><span>血管</span><span>造影</span><span>可能</span><span>显示</span><span>动脉瘤</span><span>、</span><span>闭塞</span><span>和</span><span>血管</span><span>壁</span><span>不规则</span>，<span>肌肉</span><span>受累</span><span>也</span><span>很</span><span>常见</span>，<span>症状</span><span>包括</span><span>肌痛</span><span>和</span><span>肌无力</span>，<span>血清</span><span>肌酸激酶</span><span>水平</span><span>可</span><span>轻度</span><span>升高</span>，<span>治疗</span><span>经过</span><span>：</span><span>给予</span><span>患者</span><span>米力农</span><span>、</span><span>左西</span><span>孟旦</span><span>强心</span><span>、</span><span>呋塞米</span><span>利尿</span><span>、</span><span>胺</span><span>碘</span><span>酮</span><span>抗</span><span>心律失常</span><span>及无创</span><span>呼吸机</span><span>辅助</span><span>呼吸</span><span>等</span><span>治疗</span>，<span>症状</span><span>逐渐</span><span>缓解</span>，<span>血流</span><span>动力学</span><span>逐步</span><span>稳定</span><span>后</span>，<span>加用</span><span>螺</span><span>内酯</span><span>、</span><span>美托</span><span>洛尔</span><span>及</span><span>伊伐</span><span>布雷</span><span>定</span>，<span>因</span><span>血压</span><span>偏低</span>，<span>暂未</span><span>加用</span><span>血管</span><span>紧张</span><span>素</span><span>转换</span><span>酶</span><span>抑制剂</span>，<span>低</span><span>分子</span><span>肝素</span><span>抗凝</span><span>逐步</span><span>过渡</span><span>至华法林</span><span>口服</span>，<span>血管炎</span><span>治疗</span><span>：</span><span>2016</span><span>年</span><span>8</span><span>月</span><span>5</span><span>日起</span><span>加用</span><span>口服</span><span>泼尼松</span><span>60</span><span>mg</span><span>/</span><span>d</span><span>、</span><span>静脉</span><span>环磷酰胺</span><span>200</span><span>mg</span>，<span>隔日</span><span>1</span><span>次</span><span>；</span><span>2016</span><span>年</span><span>8</span><span>月</span><span>17</span><span>日</span><span>开始</span><span>静脉</span><span>甲基</span><span>强的松龙</span><span>1</span><span>g</span><span>/</span><span>d</span>，<span>连续</span><span>3</span><span>d</span>，<span>冲击</span><span>治疗</span><span>后</span><span>曾</span><span>有</span><span>一</span><span>过性</span><span>发热</span><span>及</span><span>腹痛</span><span>加重</span>，<span>抗感染</span><span>及</span><span>禁食</span><span>水等</span><span>治疗</span><span>后</span><span>症状</span><span>缓解</span>，<span>分析</span><span>综合</span><span>患者</span><span>的</span><span>各项</span><span>检查</span><span>结果</span>，<span>考虑</span><span>其</span><span>异常</span><span>升高</span><span>的</span><span>M</span><span>蛋白</span><span>诊断</span><span>为</span><span>意义</span><span>未明</span><span>的</span><span>单克隆</span><span>丙种球蛋白</span><span>血症</span>，<span>一种</span><span>无</span><span>临床</span><span>症状</span><span>的</span><span>癌前</span><span>克隆</span><span>性</span><span>浆细胞</span><span>或</span><span>淋巴</span><span>浆细胞</span><span>增生</span><span>性疾病</span>，<span>常</span><span>偶然</span><span>被</span><span>发现</span>，<span>由于</span><span>其</span><span>通常</span><span>无症状</span>，<span>故</span><span>推测</span><span>可能</span><span>在</span><span>诊断</span><span>前</span><span>可能</span><span>潜伏</span><span>存在</span><span>多年</span>，<span>关于</span><span>治疗</span><span>：</span><span>（</span><span>1</span><span>）</span><span>应用</span><span>激素</span><span>和</span><span>免疫</span><span>抑制剂</span><span>进行</span><span>原</span><span>发病</span><span>治疗</span><span>；</span><span>（</span><span>2</span><span>）</span><span>心血管</span><span>方面</span><span>：</span><span>参考</span><span>指南</span><span>进行</span><span>收缩</span><span>性</span><span>心力衰竭</span><span>正规</span><span>治疗</span>，<span>主要</span><span>是</span><span>神经</span><span>内分泌</span><span>拮抗剂</span><span>的</span><span>应用</span><span>；</span><span>针对</span><span>冠状动脉</span><span>炎</span><span>、</span><span>冠状动脉</span><span>病变</span><span>本身</span><span>治疗</span><span>无</span><span>共识</span>，<span>文献</span><span>报道</span><span>多为</span><span>个案</span>，<span>可</span><span>参考</span><span>冠心病</span><span>的</span><span>治疗</span><span>方法</span>，<span>本例</span><span>患者</span><span>冠状动脉</span><span>多支</span><span>血管</span><span>远端</span><span>纤细</span><span>、</span><span>相关</span><span>冠状动脉</span><span>支配</span><span>区</span><span>存活</span><span>心肌</span><span>少</span>，<span>不</span><span>适合</span><span>血运重建</span><span>术</span>，<span>本例</span><span>提示</span><span>对</span><span>存在</span><span>左室</span><span>收缩</span><span>功能</span><span>降低</span><span>伴多</span><span>器官</span><span>损害</span><span>的</span><span>患者</span>，<span>应</span><span>考虑</span><span>血管炎</span><span>的</span><span>可能</span>，<span>进行</span><span>冠状动脉</span><span>及其</span><span>他</span><span>全身</span><span>动脉</span><span>的</span><span>影像学</span><span>检查</span>，<span>并</span><span>结合</span><span>各</span><span>临床表现</span><span>对</span><span>血管炎</span><span>进行</span><span>进一步</span><span>病因</span><span>分析</span>，"
      ],
      "text/plain": [
       "<IPython.core.display.HTML object>"
      ]
     },
     "metadata": {},
     "output_type": "display_data"
    },
    {
     "name": "stdout",
     "output_type": "stream",
     "text": [
      "\n",
      "\n"
     ]
    },
    {
     "data": {
      "text/html": [
       "<span>作者</span><span>：</span><span>徐瑞燚</span><span>方理</span><span>刚</span><span>北京协和医院</span><span>心内科</span><span>患者</span>，<span>男性</span>，<span>43</span><span>岁</span>，<span>因</span><span>“</span><span>间断</span><span style=\"color:red;\">发热</span><span>9</span><span>个</span><span>月</span>，<span style=\"color:red;\">乏力</span><span>6</span><span>个</span><span>月</span>，<span style=\"color:red;\">胸闷</span><span>、</span><span style=\"color:red;\">憋气</span><span>1</span><span>个</span><span>月</span>，<span>加重</span><span>9</span><span>d</span><span>”</span><span>于</span><span>2016</span><span>年</span><span>6</span><span>月</span><span>30</span><span>日</span><span>入院</span>，<span>患者</span><span>2015</span><span>年</span><span>10</span><span>月</span><span>下旬</span><span>无</span><span>明显</span><span>诱因</span><span>出现</span><span style=\"color:red;\">发热</span>，<span style=\"color:red;\">最高</span><span style=\"color:red;\">体温</span><span style=\"color:red;\">39.5</span><span style=\"color:red;\">℃</span>，<span>伴</span><span style=\"color:red;\">盗汗</span><span>、</span><span style=\"color:red;\">双侧</span><span style=\"color:red;\">球</span><span style=\"color:red;\">结膜</span><span style=\"color:red;\">充血</span>，<span>无</span><span style=\"color:red;\">寒战</span><span>、</span><span style=\"color:red;\">咳嗽</span><span>、</span><span style=\"color:red;\">咳痰</span><span>等</span>，<span>当地</span><span>诊为</span><span>“</span><span>肺炎</span><span>”</span>，<span>予</span><span>“</span><span>消炎药</span><span>”</span><span>静点</span><span>后</span><span style=\"color:red;\">体温</span><span style=\"color:red;\">高峰</span><span style=\"color:red;\">降至</span><span>37.5</span><span>℃</span>，<span>2015</span><span>年</span><span>12</span><span>月</span><span>24</span><span>日</span><span>就诊</span><span>山东</span><span>某</span><span>医院</span>，<span>查</span><span>血常规</span><span>：</span><span>白细胞</span><span>8.97</span><span>×</span><span>109</span><span>/</span><span>L</span>，<span>血红蛋白</span><span>110</span><span>g</span><span>/</span><span>L</span><span>；</span><span>血沉</span><span>111</span><span>mm</span><span>/</span><span>第</span><span>1</span><span>h</span><span>；</span><span style=\"color:red;\">EB</span><span>病毒</span><span>（</span><span>EBV</span><span>）</span><span>-</span>，<span style=\"color:red;\">双肺</span><span style=\"color:red;\">支气管</span><span style=\"color:red;\">扩张</span>，<span style=\"color:red;\">纵隔</span><span>、</span><span style=\"color:red;\">腹膜</span><span>后</span><span style=\"color:red;\">淋巴结</span><span style=\"color:red;\">肿大</span>，<span style=\"color:red;\">心包</span><span>增厚</span>，<span style=\"color:red;\">脾大</span><span>；</span><span>骨髓</span><span>涂片</span><span>：</span><span>组织细胞</span><span>较易</span><span>见</span>，<span>少数</span><span>分化</span><span style=\"color:red;\">较差</span>，<span>偶见</span><span style=\"color:red;\">噬</span><span>血细胞</span><span>；</span><span>活检</span><span>考虑</span><span>符合</span><span>反应</span><span>性</span><span>改变</span>，<span>考虑</span><span>“</span><span>EB</span><span>病毒感染</span><span>”</span>，<span style=\"color:red;\">予阿昔洛韦</span><span>等</span><span>治疗</span>，<span>1</span><span>周后</span><span>复查</span><span>EBV</span><span>-</span><span>DNA</span><span>（</span><span>－</span><span>）</span>，<span>之后</span><span>患者</span><span style=\"color:red;\">体温</span><span>逐渐</span><span>降</span><span>至</span><span>正常</span><span>范围</span>，<span>活动</span><span>耐量</span><span>基本</span><span>如常</span>，<span>2016</span><span>年</span><span>1</span><span>月</span><span>患者</span><span>逐渐</span><span>出现</span><span style=\"color:red;\">双下肢</span><span style=\"color:red;\">乏力</span>，<span style=\"color:red;\">跑步</span><span>后</span><span>明显</span>，<span style=\"color:red;\">伴肌痛</span>，<span>休息</span><span>后</span><span>缓解</span>，<span>无</span><span>明显</span><span style=\"color:red;\">发热</span><span>等</span>，<span>2016</span><span>年</span><span>4</span><span>月初</span><span>患者</span><span>出现</span><span style=\"color:red;\">腹泻</span>，<span>每日</span><span>1</span><span>～</span><span>2</span><span>次</span><span>糊状</span><span style=\"color:red;\">便</span>，<span>伴</span><span style=\"color:red;\">腹部</span><span style=\"color:red;\">隐痛</span>，<span>当地</span><span>查便</span><span>潜血</span><span>（</span><span>＋</span><span>）</span><span>；</span><span>结肠镜</span><span>（</span><span>－</span><span>）</span><span>（</span><span>无</span><span>报告单</span><span>）</span><span>；</span><span>EBV</span><span>-</span><span>DNA</span><span>（</span>，<span>考虑</span><span>\"</span><span>胃肠功能</span><span>紊乱</span><span>\"</span>，<span>未予</span><span>特殊</span><span>治疗</span>，<span>2016</span><span>年</span><span>6</span><span>月初</span><span>患者</span><span>劳累</span><span>或</span><span>跑</span><span>200</span><span>m</span><span>左右</span><span>出现</span><span style=\"color:red;\">胸闷</span><span>、</span><span style=\"color:red;\">憋气</span>，<span>休息</span><span>后</span><span>缓解</span>，<span>未</span><span>在意</span>，<span>2016</span><span>年</span><span>6</span><span>月</span><span>22</span><span>日</span><span>患者</span><span>无</span><span>明显</span><span>诱因</span><span>出现</span><span>\"</span><span style=\"color:red;\">怕冷</span><span>\"</span>，<span>伴</span><span style=\"color:red;\">出汗</span>，<span style=\"color:red;\">爬</span><span>4</span><span>层楼</span><span>出现</span><span>明显</span><span style=\"color:red;\">胸闷</span><span>、</span><span style=\"color:red;\">憋气</span>，<span>伴</span><span style=\"color:red;\">咳嗽</span><span>、</span><span style=\"color:red;\">咯</span><span>黄痰</span>，<span>休息</span><span>后</span><span>无</span><span>缓解</span>，<span>并</span><span>出现</span><span style=\"color:red;\">尿量</span><span style=\"color:red;\">减少</span>，<span>800</span><span>～</span><span>1</span><span>000</span><span>ml</span><span>/</span><span>d</span>，<span style=\"color:red;\">夜间</span><span style=\"color:red;\">可</span><span style=\"color:red;\">平卧</span>，<span>无</span><span style=\"color:red;\">发热</span><span>、</span><span style=\"color:red;\">双下肢</span><span style=\"color:red;\">水肿</span><span>等</span>，<span>就诊</span><span>当地</span><span>医院</span><span>查</span><span>超声</span><span>心动图</span><span>：</span><span>左心</span><span>增大</span><span>[</span><span>舒张</span><span>末径</span><span>（</span><span>LVED</span><span>）</span><span>60</span><span>mm</span><span>]</span><span>、</span><span>二尖瓣</span>，<span>诊断</span><span>心功能</span><span>不全</span>，<span>对症</span><span>处理</span><span>后</span><span>症状</span><span>缓解</span><span>不</span><span>明显</span>，<span>逐渐</span><span>出现</span><span style=\"color:red;\">咯</span><span style=\"color:red;\">粉红色</span><span style=\"color:red;\">泡沫痰</span>，<span>2016</span><span>年</span><span>6</span><span>月</span><span>30</span><span>日</span><span>就诊</span><span>我院</span><span>急诊</span>，<span>查</span><span>NT</span><span>-</span><span>proBNP</span><span>3635</span><span>pg</span><span>/</span><span>ml</span>，<span>肌钙蛋白</span><span>I</span><span>1.978</span><span>μ</span><span>g</span><span>/</span><span>L</span><span>；</span><span>血气</span><span>分析</span><span>：</span><span>pH</span><span>7.5</span>，<span style=\"color:red;\">二氧化碳</span><span>分压</span><span>28.3</span><span>mmHg</span>，<span>氧分压</span><span>68.0</span><span>mmHg</span>，<span style=\"color:red;\">碳酸氢</span><span style=\"color:red;\">根</span><span>22.3</span><span>mmol</span><span>/</span><span>L</span>，<span>乳酸</span><span>1.3</span><span>mmol</span><span>/</span><span>L</span><span>；</span><span>心电图</span><span>：</span><span>窦性心</span><span>律</span>，<span style=\"color:red;\">肢导联</span><span>低电压</span>，<span>超声</span><span>心动图</span><span>：</span><span>心肌病</span><span>变</span>，<span style=\"color:red;\">LVED</span><span style=\"color:red;\">67</span><span>mm</span>，<span style=\"color:red;\">左室</span><span style=\"color:red;\">室壁</span><span>运动</span><span>普遍</span><span>减低</span>，<span style=\"color:red;\">左室</span><span style=\"color:red;\">后壁</span><span>及</span><span>侧壁</span><span>中部</span><span>无</span><span>运动</span>，<span style=\"color:red;\">重度</span><span>二</span><span>、</span><span style=\"color:red;\">三尖瓣</span><span style=\"color:red;\">关闭不全</span>，<span style=\"color:red;\">左室</span><span>收缩</span><span>功能</span><span>减低</span>，<span style=\"color:red;\">双</span><span style=\"color:red;\">平面</span><span>法左室</span><span style=\"color:red;\">射血</span><span>分数</span><span>（</span><span>LVEF</span><span>）</span><span>32%</span>，<span>肺动脉</span><span>收缩压</span><span>54</span><span>mmHg</span>，<span>予</span><span>强心</span><span>、</span><span>利尿</span><span>等</span><span>对症</span><span>治疗</span><span>后</span><span>患者</span><span style=\"color:red;\">胸闷</span><span>、</span><span style=\"color:red;\">憋气</span><span>无</span><span>缓解</span>，<span>期间</span><span>发作</span><span>阵发性</span><span>心房颤动</span>，<span>为</span><span>进一步</span><span>治疗</span><span>收入</span><span>急诊</span><span>重症</span><span>监护室</span>，<span>患者</span><span>起病</span><span>以来</span>，<span style=\"color:red;\">体重减轻</span><span>约</span><span>15</span><span>kg</span>，<span>病程</span><span>中</span><span>否认</span><span style=\"color:red;\">光</span><span style=\"color:red;\">过敏</span><span>、</span><span style=\"color:red;\">口眼</span><span style=\"color:red;\">干</span><span>、</span><span style=\"color:red;\">口腔溃疡</span><span>、</span><span style=\"color:red;\">关节痛</span><span>、</span><span style=\"color:red;\">雷诺氏</span><span>现象</span><span>等</span>，<span>既往</span><span>史</span><span>：</span><span>初中</span><span>时</span><span>曾</span><span>患</span><span>黄疸型</span><span>肝炎</span>，<span>后</span><span>治愈</span>，<span>否认</span><span>乙肝</span><span>病史</span>，<span>吸烟</span><span>20</span><span>余年</span>，<span>平均</span><span>每日</span><span>30</span><span>支</span><span>；</span><span style=\"color:red;\">饮</span><span>白酒</span><span>7</span><span>～</span><span>8</span><span>年</span>，<span>平均</span><span>每日</span><span>半斤</span><span>（</span><span>合</span><span>乙醇</span><span>100</span><span>g</span><span>）</span><span>；</span><span>已</span><span>戒烟</span><span>酒</span><span>9</span><span>个</span><span>月</span>，<span>婚育</span><span>、</span><span>家族史</span><span>无</span><span>特殊</span>，<span>入室</span><span>查体</span><span>：</span><span style=\"color:red;\">体温</span><span style=\"color:red;\">36.8</span><span style=\"color:red;\">℃</span>，<span style=\"color:red;\">血压</span><span>90</span><span>/</span><span>60</span><span>mmHg</span><span>（</span><span>应用</span><span>米力农</span><span>）</span>，<span style=\"color:red;\">心率</span><span>120</span><span>次</span><span>/</span><span>min</span>，<span>氧</span><span>饱和度</span><span>95%</span><span>（</span><span>鼻</span><span>导管</span><span>吸氧</span><span>2</span><span>L</span><span>/</span><span>min</span><span>）</span>，<span style=\"color:red;\">呼吸</span><span style=\"color:red;\">35</span><span>次</span><span>/</span><span>min</span>，<span style=\"color:red;\">双上</span><span style=\"color:red;\">肺</span><span style=\"color:red;\">可闻</span><span>及</span><span style=\"color:red;\">湿</span><span style=\"color:red;\">啰</span><span style=\"color:red;\">音</span>，<span style=\"color:red;\">双下</span><span style=\"color:red;\">肺</span><span style=\"color:red;\">呼吸</span><span style=\"color:red;\">音低</span>，<span style=\"color:red;\">心界</span><span style=\"color:red;\">左下</span><span style=\"color:red;\">大</span>，<span style=\"color:red;\">心律</span><span style=\"color:red;\">齐</span>，<span style=\"color:red;\">二尖瓣</span><span>区</span><span style=\"color:red;\">可闻及</span><span>Ⅳ</span><span>/</span><span>6</span><span>级</span><span>收缩期</span><span>杂音</span>，<span style=\"color:red;\">腹软</span>，<span>无</span><span style=\"color:red;\">压痛</span>，<span style=\"color:red;\">双下肢</span><span style=\"color:red;\">无</span><span style=\"color:red;\">水肿</span>，<span>分析</span><span>患者</span><span>主要</span><span>临床表现</span><span>为</span><span>：</span><span>（</span><span>1</span><span>）</span><span>前</span><span>6</span><span>～</span><span>9</span><span>个</span><span>月</span><span>全身</span><span>症状</span><span>（</span><span style=\"color:red;\">腹痛</span><span>、</span>，<span>近</span><span>1</span><span>个</span><span>月</span><span>收缩</span><span>性</span><span>心力衰竭</span>，<span>曾</span><span>大量</span><span>吸烟</span><span>饮酒</span><span>；</span><span>（</span><span>2</span><span>）</span><span>有</span><span>EB</span><span>病毒感染</span><span>证据</span>，<span>M</span><span>蛋白</span><span>阳性</span><span>；</span><span>（</span><span>3</span><span>）</span><span>全</span><span style=\"color:red;\">心</span><span style=\"color:red;\">扩大</span>，<span style=\"color:red;\">室壁</span><span>运动</span><span>减低</span>，<span style=\"color:red;\">重度</span><span>二</span><span>、</span><span style=\"color:red;\">三尖瓣</span><span style=\"color:red;\">关闭不全</span>，<span>LVEF</span><span>明显降低</span>，<span>病因</span><span>方面</span><span>需要</span><span>考虑</span><span>以下</span><span>几种</span><span>可能</span><span>：</span><span>（</span><span>1</span><span>）</span><span>病毒性</span><span>心肌炎</span><span>及</span><span>扩张型</span><span>心肌病</span><span>：</span><span>患者</span><span>以</span><span>发热</span>，<span>EBV</span><span>-</span><span>DNA</span><span>（</span><span>＋</span><span>）</span>，<span>抗病毒</span><span>治疗</span><span>有效</span>，<span>考虑</span><span>EB</span><span>病毒感染</span>，<span style=\"color:red;\">部分</span><span>扩张型</span><span>心肌病</span><span>源自</span><span>病毒性</span><span>心肌炎</span>，<span>尤其</span><span>是</span><span>肠道病毒</span><span>（</span><span>埃可</span><span>、</span><span style=\"color:red;\">柯萨奇</span><span>病毒</span><span>等</span><span>）</span><span>感染</span>，<span>初始</span><span>病因</span><span>不明</span><span>的</span><span>心肌病</span><span>中</span><span>9%</span><span>由</span><span>心肌炎</span><span>所致</span>，<span>但本</span><span>患者</span><span>EB</span><span>病毒感染</span><span>与</span><span>心室</span><span>扩大</span><span>、</span><span>收缩</span><span>功能</span><span>减低</span><span>间</span><span>的</span><span>关系</span><span>很难</span><span>得到</span><span>明确</span><span>证据</span><span>；</span><span>（</span>，<span>还</span><span>需</span><span>考虑</span><span>酒精性</span><span>心肌病</span><span>的</span><span>可能</span>，<span>乙醇</span><span>摄入量</span><span>大于</span><span>80</span><span>g</span><span>/</span><span>d</span><span>持续</span><span>至少</span><span>5</span><span>年</span>，<span>酒精性</span><span>心肌病</span><span>的</span><span>发生</span><span>风险</span><span>增加</span>，<span>酒精性</span><span>心肌病</span><span>具有</span><span>可逆性</span>，<span>其</span><span>诊断</span><span>是</span><span>一种</span><span>排除</span><span>性</span><span>诊断</span>，<span>本</span><span>患者</span><span>入</span><span>我院</span><span>时</span><span>已</span><span>戒酒</span><span>9</span><span>个</span><span>月余</span>，<span>病情</span><span>仍</span><span>进展</span>，<span style=\"color:red;\">不</span><span>支持</span><span>酒精性</span><span>心肌病</span><span>的</span><span>诊断</span><span>；</span><span>（</span><span>3</span><span>）</span><span>缺血性</span><span>心肌病</span><span>：</span><span>患者</span><span>为</span><span>男性</span><span>、</span><span>长期</span><span>大量</span><span>吸烟</span>，<span>为</span><span>冠心病</span><span>高危</span><span>人群</span>，<span style=\"color:red;\">左室</span><span style=\"color:red;\">节段</span><span>性</span><span>无</span><span style=\"color:red;\">运动</span>，<span>存在</span><span>缺血性</span><span>心肌病</span><span>可能</span>，<span>需</span><span>进一步</span><span>检查</span><span>除外</span><span>；</span><span>（</span><span>4</span><span>）</span><span>心肌</span><span>淀粉样变</span><span>：</span><span>患者</span><span>充血性</span><span>心力衰竭</span><span>、</span><span>心电图</span><span>肢导联</span><span>低电压</span><span>、</span><span>血清</span>，<span>需</span><span>警惕</span><span>心肌</span><span>淀粉样变</span>，<span>但</span><span>心肌</span><span>淀粉样变</span><span>多</span><span>表现</span><span>为</span><span>限制型</span><span>心肌病</span>，<span>常</span><span>出现</span><span style=\"color:red;\">心室</span><span style=\"color:red;\">壁</span><span style=\"color:red;\">增厚</span><span>、</span><span>心肌</span><span style=\"color:red;\">颗粒状</span><span style=\"color:red;\">回声</span><span>增强</span><span>、</span><span>心房</span><span>扩大</span>，<span style=\"color:red;\">可</span><span style=\"color:red;\">同时</span><span style=\"color:red;\">有</span><span style=\"color:red;\">心包</span><span style=\"color:red;\">积液</span><span>、</span><span>瓣膜</span><span>增厚</span>，<span>很少</span><span>表现</span><span>为</span><span>扩张型</span><span>心肌病</span><span>样</span><span>改变</span><span>；</span><span>（</span><span>5</span><span>）</span><span>系统性</span><span>疾病</span><span>致</span><span>心肌</span><span>损害</span><span>：</span><span>患者</span><span>存在</span><span style=\"color:red;\">发热</span>，<span style=\"color:red;\">便</span><span style=\"color:red;\">潜血</span><span>阳性</span>，<span style=\"color:red;\">乏力</span><span style=\"color:red;\">肌痛</span><span>、</span><span style=\"color:red;\">体重减轻</span><span>、</span><span>肺部</span><span>病灶</span><span>、</span><span>心肌</span><span>受累</span><span>等</span><span>众多</span><span>临床表现</span>，<span>需要</span><span>考虑</span><span>系统性</span><span>疾病</span><span>尤其</span><span>是</span><span>系统性</span><span>血管炎</span><span>可能性</span>，<span>系统性</span><span>血管炎</span><span>是</span><span>一个</span><span>复杂</span><span>的</span><span>疾病谱</span>，<span>因</span><span>病种</span><span>不同</span>，<span style=\"color:red;\">受累</span><span>血管</span><span>大小</span><span>、</span><span>类型</span><span>和</span><span style=\"color:red;\">部位</span><span style=\"color:red;\">不同</span>，<span>临床表现</span><span>各异</span>，<span>常见</span><span>表现</span><span>包括</span><span style=\"color:red;\">乏力</span><span>、</span><span style=\"color:red;\">发热</span><span>、</span><span style=\"color:red;\">关节痛</span><span>、</span><span style=\"color:red;\">腹痛</span><span>、</span><span style=\"color:red;\">高血压</span><span>、</span><span style=\"color:red;\">肾功能</span><span>不</span><span>全及</span><span>神经系统</span><span>功能障碍</span><span>等</span>，<span>但是</span><span>这些</span><span>表现</span><span>通常</span><span>敏感性</span><span>和</span><span>特异性</span><span style=\"color:red;\">不高</span>，<span>需</span><span>进一步</span><span>进行</span><span>血管</span><span>方面</span><span>的</span><span>影像学</span><span>检查</span>，<span>入院</span><span>后</span><span>实验室</span><span>检查</span><span>：</span><span>血常规</span><span>：</span><span>白细胞</span><span>25.14</span><span>×</span><span>109</span><span>/</span><span>L</span>，<span style=\"color:red;\">中性</span><span>88%</span>，<span>血红蛋白</span><span>139</span><span>g</span><span>/</span><span>L</span>，<span>血小板</span><span>387</span><span>×</span><span>109</span><span>/</span><span>L</span><span>；</span><span>尿常规</span><span>：</span><span>蛋白</span><span>（</span><span style=\"color:red;\">－</span><span>）</span><span>；</span><span style=\"color:red;\">多次</span><span style=\"color:red;\">大便</span><span style=\"color:red;\">潜血</span><span>（</span><span>＋</span><span>）</span>，<span style=\"color:red;\">肌酐</span><span>79</span><span>μ</span><span>mol</span><span>/</span><span>L</span>，<span>白蛋白</span><span>30</span><span>g</span><span>/</span><span>L</span>，<span>总</span><span>胆红素</span><span>22</span><span>μ</span><span>mol</span><span>/</span><span>L</span><span>；</span><span>总</span><span>胆固醇</span><span>3.65</span><span>mmol</span><span>/</span><span>L</span>，<span>三酰</span><span>甘油</span><span>0.94</span><span>mmol</span><span>/</span><span>L</span>，<span>高密度</span><span>脂蛋白</span><span>胆固醇</span><span>（</span><span>HDL</span><span>-</span><span>C</span><span>）</span><span>0.67</span><span>mmol</span><span>/</span><span>L</span>，<span>低密度</span><span>脂蛋白</span><span>胆固醇</span><span>（</span><span>LDL</span><span>-</span><span>C</span><span>）</span><span>2.44</span><span>mmol</span><span>/</span><span>L</span>，<span>肌酸激酶</span><span>404</span><span>U</span><span>/</span><span>L</span>，<span>肌酸激酶</span><span>同工酶</span><span>（</span><span>CKMB</span><span>-</span><span>mass</span><span>）</span><span>28.6</span><span>μ</span><span>g</span><span>/</span><span>L</span>，<span>肌钙蛋白</span><span>I</span><span>6.378</span><span>μ</span><span>g</span><span>/</span><span>L</span><span>；</span><span>NT</span><span>-</span><span>proBNP</span><span>7</span><span>590</span><span>pg</span><span>/</span><span>ml</span>，<span>D</span><span>-</span><span>二聚体</span><span>1.76</span><span>mg</span><span>/</span><span>L</span><span>；</span><span>乙肝</span><span>表面抗原</span><span>、</span><span>丙肝</span><span>抗体</span><span>、</span><span>人</span><span>免疫</span><span>缺陷</span><span>病毒</span><span>抗体</span><span>均</span>，<span>K</span><span>/</span><span>λ</span><span>1.21</span><span>；</span><span>24</span><span>h</span><span style=\"color:red;\">尿</span><span style=\"color:red;\">轻链</span><span>：</span><span>K</span><span>13.2</span><span>mg</span><span>/</span><span>dl</span>，<span style=\"color:red;\">抗核</span><span>抗体</span><span>、</span><span>盐水</span><span style=\"color:red;\">可</span><span style=\"color:red;\">提取</span><span>性核</span><span>抗原</span><span>的</span><span>抗体</span><span>（</span><span>抗</span><span>ENA</span><span>）</span><span>、</span><span>抗</span><span>中性</span><span>粒细胞</span><span>胞</span><span>浆</span>，<span>高敏</span><span>C</span><span>反应</span><span>蛋白</span><span>9.51</span><span>mg</span><span>/</span><span>L</span><span>；</span><span>白介素</span><span>-</span><span>6</span><span>：</span><span>7.9</span><span>pg</span><span>/</span><span>ml</span>，<span>肿瘤</span><span>坏死</span><span>因子</span><span>（</span><span>TNF</span><span>-</span><span>α</span><span>）</span><span>14.6</span><span>pg</span><span>/</span><span>ml</span>，<span>患者</span><span>在</span><span>急诊</span><span>重症</span><span>监护室</span><span>住院</span><span>期间</span><span>出现</span><span style=\"color:red;\">右</span><span style=\"color:red;\">下肢</span><span style=\"color:red;\">疼痛</span>，<span style=\"color:red;\">右足</span><span style=\"color:red;\">皮温</span><span>变凉</span>，<span style=\"color:red;\">苍白</span>，<span style=\"color:red;\">右侧</span><span style=\"color:red;\">足</span><span style=\"color:red;\">背</span><span style=\"color:red;\">动脉</span><span style=\"color:red;\">搏动</span><span style=\"color:red;\">消失</span>，<span>遂行</span><span style=\"color:red;\">外周血</span><span style=\"color:red;\">管</span><span style=\"color:red;\">超声</span><span>：</span><span style=\"color:red;\">右侧</span><span style=\"color:red;\">胫前</span><span style=\"color:red;\">动脉</span><span style=\"color:red;\">及胫后</span><span style=\"color:red;\">动脉</span><span style=\"color:red;\">中远</span><span style=\"color:red;\">段</span><span style=\"color:red;\">重度</span><span style=\"color:red;\">狭窄</span><span style=\"color:red;\">或</span><span style=\"color:red;\">闭塞</span><span style=\"color:red;\">不</span><span>除外</span>，<span>超声</span><span>心动图</span><span>：</span><span>心肌病</span><span>变</span>，<span style=\"color:red;\">节段</span><span>性室</span><span>壁</span><span>运动</span><span>异常</span><span>（</span><span>左室</span><span>后壁</span><span>中部</span><span>、</span><span>侧壁</span><span>中部</span><span>）</span>，<span>全</span><span style=\"color:red;\">心</span><span>增大</span><span>（</span><span>LVED</span><span style=\"color:red;\">74</span><span>mm</span><span>）</span>，<span style=\"color:red;\">重度</span><span style=\"color:red;\">二尖瓣</span><span style=\"color:red;\">关闭不全</span>，<span style=\"color:red;\">重度</span><span style=\"color:red;\">三尖瓣</span><span style=\"color:red;\">关闭不全</span>，<span>轻度</span><span>肺动脉</span><span>高压</span>，<span style=\"color:red;\">左室</span><span>收缩</span><span>功能</span><span>减低</span><span>（</span><span>双</span><span style=\"color:red;\">平面</span><span>LVEF</span><span>39%</span><span>）</span>，<span style=\"color:red;\">左室</span><span style=\"color:red;\">限制性</span><span style=\"color:red;\">舒张</span><span>功能</span><span>减低</span><span>（</span><span>图</span><span>1</span><span>）</span>，<span>图</span><span>1</span><span>超声</span><span>心动图</span><span>示二</span><span>、</span><span style=\"color:red;\">三尖瓣</span><span style=\"color:red;\">反流</span><span>胸部</span><span>CT</span><span>：</span><span>双</span><span style=\"color:red;\">肺门</span><span style=\"color:red;\">周围</span><span style=\"color:red;\">大</span><span style=\"color:red;\">片状</span><span style=\"color:red;\">磨</span><span style=\"color:red;\">玻璃</span><span>影</span>，<span>肺水肿</span><span>不</span><span>除外</span>，<span style=\"color:red;\">双侧</span><span style=\"color:red;\">胸腔</span><span style=\"color:red;\">积液</span><span>伴肺</span><span>组织</span><span>膨胀</span><span>不全</span>，<span style=\"color:red;\">少量</span><span style=\"color:red;\">心包</span><span style=\"color:red;\">积液</span><span>；</span><span>全身</span><span>MR</span><span>弥散</span><span>加权</span><span>成像</span><span>未见</span><span>肿瘤</span><span>证据</span>，<span>进一步</span><span>行腹盆</span><span>CTA</span><span>：</span><span>肝</span><span>总</span><span>动脉</span><span>及</span><span>脾</span><span>动脉</span><span>管壁增</span><span>厚</span>，<span style=\"color:red;\">脾</span><span style=\"color:red;\">动脉</span><span style=\"color:red;\">中远</span><span style=\"color:red;\">段</span><span style=\"color:red;\">不规则</span><span style=\"color:red;\">轻中度</span><span style=\"color:red;\">狭窄</span>，<span>肠系膜</span><span>上</span><span>动脉</span><span>分支</span><span>动脉</span><span style=\"color:red;\">管壁增</span><span style=\"color:red;\">厚</span>，<span style=\"color:red;\">远端</span><span style=\"color:red;\">分支</span><span>纤细</span>，<span style=\"color:red;\">双</span><span style=\"color:red;\">肾动脉</span><span style=\"color:red;\">分支</span><span>纤细</span>，<span style=\"color:red;\">双侧</span><span style=\"color:red;\">髂</span><span>内</span><span>动脉</span><span>末端</span><span>分支</span><span>纤细</span>，<span style=\"color:red;\">脾脏</span><span>局部</span><span>梗死</span><span>可能</span>，<span>心肌</span><span>灌注</span><span>延迟</span><span>成像</span><span>动态</span><span>MRI</span><span>：</span><span>左室</span><span>中段</span><span>及近</span><span>心尖</span><span>段侧</span><span>下壁</span><span>、</span><span>心尖</span><span>部</span><span>心肌</span><span>节段</span><span>性</span><span>变薄</span>，<span>运动</span><span>减低</span><span>伴</span><span style=\"color:red;\">心内膜</span><span style=\"color:red;\">下</span><span style=\"color:red;\">静息</span><span>首过</span><span>灌注</span><span>缺损</span><span>及</span><span>透壁</span><span>延迟</span><span>强化</span>，<span>符合</span><span>心肌梗死</span><span>后</span><span>改变</span>，<span style=\"color:red;\">余部</span><span style=\"color:red;\">左室</span><span>心肌</span><span>心内膜</span><span>下</span><span>多发</span><span>节段</span><span>性线样</span><span>及</span><span>斑片样</span><span>延迟</span><span>强化</span>，<span>首先</span><span>考虑</span><span>缺血性</span><span>心肌病</span><span>变</span><span>；</span><span>左</span><span>、</span><span style=\"color:red;\">右室</span><span style=\"color:red;\">收缩</span><span style=\"color:red;\">功能</span><span>减低</span>，<span>LVEF</span><span>35.5%</span>，<span style=\"color:red;\">右室</span><span>EF</span><span>37.3%</span>，<span>PET</span><span>/</span><span>CT</span><span>心肌</span><span>代谢</span><span>显像</span><span>：</span><span>静息</span><span>心肌</span><span>显像</span><span>所示</span><span>左室</span><span>心尖</span><span>、</span><span>下壁</span><span>心尖</span><span>、</span><span>前壁</span><span>心尖</span><span>、</span>，<span style=\"color:red;\">静息</span><span>心肌</span><span>显像</span><span>所示</span><span>左室</span><span>下壁基</span><span>底部</span><span>及后</span><span>间隔</span><span>（</span><span>中部</span><span>、</span><span>基</span><span style=\"color:red;\">底部</span><span>）</span><span>血流</span><span>灌注</span><span>减低</span><span>区</span><span>可见</span>，<span style=\"color:red;\">中段</span><span style=\"color:red;\">发出</span><span>第一</span><span>对角</span><span>支后</span><span>弥漫</span><span>狭窄</span>，<span style=\"color:red;\">至远段</span><span>100%</span><span>闭塞</span><span>；</span><span>对角</span><span>支</span><span>弥漫</span><span>斑块</span>，<span style=\"color:red;\">弥漫</span><span style=\"color:red;\">狭窄</span><span>最重</span><span>90%</span>，<span>间隔</span><span>支</span><span>弥漫</span><span style=\"color:red;\">斑块</span><span style=\"color:red;\">狭窄</span><span>最重</span><span>90%</span>，<span>可见</span><span style=\"color:red;\">瘤样</span><span style=\"color:red;\">扩张</span>，<span>TIMI</span><span>血流</span><span>Ⅲ</span><span>级</span><span>；</span><span>中间</span><span>支</span><span style=\"color:red;\">开口</span><span style=\"color:red;\">狭窄</span><span>80%</span>，<span style=\"color:red;\">近段</span><span style=\"color:red;\">瘤样</span><span>扩张</span>，<span>远段</span><span style=\"color:red;\">弥漫</span><span style=\"color:red;\">纤细</span>，<span>TIMI</span><span>血流</span><span>Ⅲ</span><span>级</span><span>；</span><span>回旋</span><span>支近</span><span style=\"color:red;\">中段</span><span style=\"color:red;\">弥漫</span><span style=\"color:red;\">斑块</span><span style=\"color:red;\">伴</span><span style=\"color:red;\">扩张</span>，<span>远段</span><span>100%</span><span>闭塞</span><span>；</span><span>第一</span><span style=\"color:red;\">钝</span><span style=\"color:red;\">缘支</span><span style=\"color:red;\">细小</span>，<span style=\"color:red;\">第二</span><span style=\"color:red;\">、</span><span style=\"color:red;\">三钝</span><span style=\"color:red;\">缘支</span><span style=\"color:red;\">纤细</span>，<span style=\"color:red;\">弥漫</span><span style=\"color:red;\">狭窄</span><span>最重</span><span>90%</span>，<span>TIMI</span><span>血流</span><span>Ⅲ</span><span>级</span><span>；</span><span style=\"color:red;\">右</span><span>冠脉</span><span style=\"color:red;\">开口</span><span style=\"color:red;\">狭窄</span><span>50%</span>，<span>全程</span><span style=\"color:red;\">斑块</span><span style=\"color:red;\">伴</span><span style=\"color:red;\">扩张</span>，<span>TIMI</span><span>血流</span><span>Ⅲ</span><span>级</span><span>；</span><span>后</span><span>降支</span><span>中远</span><span>段</span><span style=\"color:red;\">弥漫</span><span style=\"color:red;\">变细</span>，<span>TIMI</span><span>血流</span><span>Ⅲ</span><span>级</span><span>；</span><span>左室</span><span>后</span><span style=\"color:red;\">支自</span><span style=\"color:red;\">开口</span><span style=\"color:red;\">次全</span><span style=\"color:red;\">狭窄</span>，<span>TIMI</span><span>血流</span><span>Ⅰ</span><span>级</span><span>（</span><span>图</span><span>2</span><span>）</span>，<span>图</span><span>2</span><span>冠状动脉</span><span>造影</span><span>示</span><span>冠状动脉</span><span>三支</span><span>病变</span>，<span style=\"color:red;\">弥漫</span><span style=\"color:red;\">扩张</span><span>、</span><span style=\"color:red;\">瘤样</span><span style=\"color:red;\">扩张</span><span style=\"color:red;\">及</span><span style=\"color:red;\">狭窄</span>，<span>远段</span><span>纤细</span><span>主动脉</span><span>分支</span><span>选择性</span><span>造影</span><span>结果</span><span>：</span><span>头臂</span><span style=\"color:red;\">干</span><span style=\"color:red;\">、</span><span style=\"color:red;\">右侧</span><span style=\"color:red;\">颈</span><span style=\"color:red;\">总</span><span style=\"color:red;\">动脉</span><span>、</span><span style=\"color:red;\">双侧</span><span style=\"color:red;\">锁骨</span><span style=\"color:red;\">下</span><span style=\"color:red;\">动脉</span>，<span style=\"color:red;\">开口</span><span style=\"color:red;\">狭窄</span><span>50%</span>，<span style=\"color:red;\">中段</span><span style=\"color:red;\">轻度</span><span style=\"color:red;\">瘤样</span><span style=\"color:red;\">扩张</span><span>；</span><span>腹腔</span><span style=\"color:red;\">干</span><span>及其</span><span>分支</span><span>未见</span><span>明显</span><span>异常</span><span>；</span><span style=\"color:red;\">双</span><span style=\"color:red;\">肾动脉</span><span style=\"color:red;\">主干</span><span style=\"color:red;\">未见</span><span style=\"color:red;\">明显</span><span style=\"color:red;\">异常</span>，<span>远段</span><span>分支</span><span>血管</span><span>纤细</span><span>（</span><span>图</span><span>3</span><span>）</span>，<span>图</span><span>3</span><span>肾动脉</span><span>造影</span><span>示双</span><span>肾动脉</span><span>主干</span><span>未见</span><span>明显</span><span>异常</span>，<span>远段</span><span>分支</span><span>血管</span><span>纤细</span><span style=\"color:red;\">于</span><span>前降</span><span>支及</span><span>回旋</span><span>支</span><span>分别</span><span>行</span><span>OCT</span><span>检查</span><span>：</span><span>血管</span><span>壁</span><span>局部</span><span>可见</span><span>内膜</span><span>增厚</span>，<span style=\"color:red;\">内膜</span><span>下未见</span><span>明确</span><span>斑块</span>，<span style=\"color:red;\">胸水</span><span>常规</span><span>：</span><span>白细胞</span><span>733</span><span>×</span><span>106</span><span>/</span><span>L</span>，<span style=\"color:red;\">单核</span><span>81.0%</span>，<span style=\"color:red;\">黎氏</span><span>试验</span><span>（</span><span>＋</span><span>）</span><span>；</span><span>蛋白</span><span>13</span><span>g</span><span>/</span><span>L</span><span>；</span><span>乳糜</span><span>试验</span><span>（</span><span style=\"color:red;\">－</span><span>）</span><span>；</span><span>病原学</span><span>（</span>，<span>骨髓</span><span>涂片</span><span>及</span><span>活检</span><span>未见</span><span>明显</span><span>异常</span><span>；</span><span>骨髓</span><span>、</span><span>齿龈</span><span>、</span><span style=\"color:red;\">腹部</span><span style=\"color:red;\">脂肪</span><span>活检</span><span>刚果红</span><span>染色</span><span>（</span><span>－</span><span>）</span>，<span>分析</span><span>患者</span><span>的</span><span>免疫</span><span>指标</span><span>及</span><span>补体</span><span>均</span><span>正常</span>，<span style=\"color:red;\">不</span><span>支持</span><span>红斑狼疮</span><span>等</span><span>免疫性</span><span>疾病</span>，<span style=\"color:red;\">多</span><span style=\"color:red;\">部位</span><span style=\"color:red;\">活检</span><span>刚果红</span><span>阴性</span><span>不</span><span>支持</span><span>淀粉样变</span><span>性及</span><span>多发性</span><span>骨髓瘤</span><span>的</span><span>诊断</span>，<span>影像学</span><span>检查</span><span>发现</span><span>冠状动脉</span><span>多支</span><span>血管</span><span>、</span><span>双侧</span><span>乳内</span><span>动脉</span><span>、</span><span style=\"color:red;\">腹腔</span><span style=\"color:red;\">动脉</span><span>（</span><span style=\"color:red;\">肝</span><span>总</span><span>动脉</span><span>、</span><span style=\"color:red;\">脾</span><span style=\"color:red;\">动脉</span>，<span>本</span><span>患者</span><span>虽</span><span>有</span><span style=\"color:red;\">动脉</span><span style=\"color:red;\">粥样</span><span style=\"color:red;\">硬化</span><span>危险</span><span>因素</span><span>包括</span><span>男性</span><span>、</span><span style=\"color:red;\">大量</span><span>吸烟</span><span>及</span><span>HDL</span><span>-</span><span>C</span><span>降低</span>，<span>但</span><span>冠状动脉</span><span>呈</span><span>狭窄</span><span>与</span><span>扩张</span><span>交替</span><span>、</span><span>三支</span><span>血管</span><span>远端</span><span>突然</span><span>纤细</span><span style=\"color:red;\">不</span><span>符合</span><span>典型</span><span>的</span><span>冠心病</span><span>表现</span>，<span style=\"color:red;\">全身</span><span style=\"color:red;\">广泛</span><span style=\"color:red;\">多发</span><span style=\"color:red;\">中等</span><span style=\"color:red;\">血管</span><span style=\"color:red;\">受累</span>，<span>即使</span><span>可能</span><span>有</span><span>部分</span><span style=\"color:red;\">动脉</span><span style=\"color:red;\">粥样</span><span>硬化</span><span>病变</span><span>的</span><span>存在</span>，<span>但</span><span>更</span><span>符合</span><span>血管炎</span><span>的</span><span>可能</span>，<span>本例</span><span>患者</span><span>存在</span><span style=\"color:red;\">体重</span><span style=\"color:red;\">下降</span><span>、</span><span style=\"color:red;\">双下肢</span><span style=\"color:red;\">乏力</span><span>伴肌痛</span><span>和</span><span>特征性</span><span style=\"color:red;\">动脉</span><span>造影</span><span>异常</span>，<span>符合</span><span>美国</span><span>风湿病学</span><span>会</span><span>关于</span><span>结节性</span><span>多</span><span>动脉炎</span><span>（</span><span>polyarteritis</span><span>nodosa</span>，<span>PAN</span><span>）</span><span>的</span><span>诊断</span><span>标准</span>，<span>PAN</span><span>是</span><span>一种</span><span>系统性</span><span>坏死性</span><span>血管炎</span>，<span>通常</span><span>累及</span><span>中型</span><span>和</span><span>小型</span><span>肌性</span><span style=\"color:red;\">动脉</span>，<span>与</span><span>抗</span><span>中性</span><span>粒细胞</span><span>胞</span><span style=\"color:red;\">浆</span><span style=\"color:red;\">抗体</span><span>无</span><span>相关性</span>，<span style=\"color:red;\">Chapel</span><span>Hill</span><span>共识</span><span>会议</span><span>将</span><span>PAN</span><span>定义</span><span>为</span><span>：</span><span>中</span><span style=\"color:red;\">小动脉</span><span style=\"color:red;\">坏死性</span><span style=\"color:red;\">炎症</span><span>不伴</span><span style=\"color:red;\">肾小球</span><span style=\"color:red;\">肾炎</span><span>或微</span><span>动脉</span><span>、</span><span style=\"color:red;\">毛细血管</span>，<span style=\"color:red;\">好发</span><span>人群</span><span>为</span><span>中老年人</span>，<span>男性</span><span>居多</span>，<span>多数</span><span>PAN</span><span>病例</span><span>是</span><span>特发性</span><span>的</span>，<span>其</span><span>发病</span><span>机制</span><span>尚</span><span>不</span><span>明确</span>，<span style=\"color:red;\">炎症</span><span>造成</span><span>血管</span><span>壁</span><span>增厚</span><span>和</span><span>血管</span><span>内膜</span><span>增生</span><span>可</span><span>引起</span><span>管腔</span><span style=\"color:red;\">狭窄</span>，<span>血流</span><span>减少</span>，<span style=\"color:red;\">受累</span><span>血管</span><span>容易</span><span>形成</span><span>血栓</span>，<span>从而</span><span>导致</span><span style=\"color:red;\">组织</span><span style=\"color:red;\">缺血</span><span>或</span><span style=\"color:red;\">梗死</span>，<span>另一方面</span><span>炎症</span><span>还</span><span>可</span><span>使</span><span style=\"color:red;\">血管</span><span style=\"color:red;\">壁</span><span style=\"color:red;\">变薄</span>，<span style=\"color:red;\">内膜</span><span>和</span><span>外</span><span>弹力</span><span style=\"color:red;\">层</span><span>的</span><span>破坏</span><span>导致</span><span>动脉</span><span>扩张</span><span>或</span><span style=\"color:red;\">动脉瘤</span><span>形成</span>，<span>PAN</span><span>通常</span><span>是</span><span>临床</span><span>诊断</span>，<span>需要</span><span>首先</span><span>排除</span><span>类似</span><span>的</span><span>其他</span><span>疾病</span>，<span>PAN</span><span>患者</span><span>常</span><span>伴有</span><span style=\"color:red;\">全身</span><span style=\"color:red;\">症状</span><span>（</span><span>如</span><span style=\"color:red;\">疲劳</span><span>、</span><span style=\"color:red;\">体重减轻</span><span>、</span><span style=\"color:red;\">乏力</span><span>、</span><span style=\"color:red;\">发热</span><span>、</span><span style=\"color:red;\">关节痛</span><span>等</span><span>）</span><span>和</span>，<span style=\"color:red;\">可</span><span style=\"color:red;\">累及</span><span>任何</span><span style=\"color:red;\">器官</span>，<span style=\"color:red;\">肾脏</span><span>、</span><span style=\"color:red;\">皮肤</span><span>、</span><span style=\"color:red;\">关节</span><span>、</span><span style=\"color:red;\">肌肉</span><span>、</span><span>神经</span><span>和</span><span style=\"color:red;\">胃肠道</span><span style=\"color:red;\">常</span><span style=\"color:red;\">受累</span>，<span>北京协和医院</span><span>曾</span><span>总结</span><span>65</span><span>例</span><span>结节性</span><span>多</span><span style=\"color:red;\">动脉炎</span><span>病例</span>，<span>最</span><span>常</span><span>受累</span><span>的</span><span>是</span><span style=\"color:red;\">皮肤</span><span style=\"color:red;\">（</span><span style=\"color:red;\">79%</span><span>）</span><span>和</span><span style=\"color:red;\">肾脏</span><span>（</span><span>68%</span><span>）</span>，<span style=\"color:red;\">心脏</span><span style=\"color:red;\">受累</span><span>占</span><span>17.2%</span>，<span>PAN</span><span>临床表现</span><span>为</span><span>受累</span><span>器官</span><span>或</span><span style=\"color:red;\">组织</span><span style=\"color:red;\">慢性</span><span style=\"color:red;\">缺血</span><span>或</span><span>为</span><span style=\"color:red;\">动脉瘤</span><span>破裂</span><span>所致</span><span>的</span><span>出血</span>，<span>甚至</span><span>出现</span><span>危及</span><span>生命</span><span>的</span><span>急性</span><span>并发症</span>，<span>因</span><span>累及</span><span>不同</span><span style=\"color:red;\">血管</span><span>临床表现</span><span>各异</span><span>、</span><span>多样</span>，<span>尸检</span><span>发现</span><span>肾脏</span><span>是</span><span>最常</span><span>受累</span><span>的</span><span style=\"color:red;\">器官</span>，<span style=\"color:red;\">肾动脉</span><span>的</span><span>分支</span><span>或</span><span>肾内</span><span style=\"color:red;\">血管</span><span style=\"color:red;\">受累</span>，<span>约</span><span>10%</span><span>患者</span><span>的</span><span>冠状动脉</span><span>血管</span><span>受累</span>，<span>冠状动脉</span><span>受累</span><span>可以</span><span>引起</span><span>冠状动脉</span><span>血管</span><span>闭塞</span><span>或瘤样</span><span>扩张</span>，<span>但</span><span>导致</span><span>心肌梗死</span><span>的</span><span>病例</span><span>非常</span><span>少见</span><span>（</span><span>部分</span><span>文献</span><span>报道</span><span>为</span><span>2%</span><span>）</span>，<span>冠状动脉</span><span>狭窄</span><span>或</span><span>闭塞</span><span>导致</span><span>心肌缺血</span>，<span>因此</span><span>冠状动脉</span><span>血管炎</span><span>也</span><span>可</span><span>导致</span><span>缺血性</span><span>心肌病</span>，<span>其</span><span>与</span><span>肾脏</span><span>疾病</span><span>导致</span><span>的</span><span>高血压</span><span>都</span><span>可能</span><span>引起</span><span>心力衰竭</span>，<span>本例</span><span>患者</span><span style=\"color:red;\">发热</span>，<span>反复</span><span style=\"color:red;\">腹痛</span>，<span style=\"color:red;\">大便</span><span style=\"color:red;\">潜血</span><span>阳性</span>，<span>应</span><span>考虑</span><span>PAN</span><span>所致</span>，<span style=\"color:red;\">腹痛</span><span>可以</span><span>是</span><span>肠系膜</span><span>动脉炎</span><span>的</span><span>早期</span><span>表现</span>，<span>由于</span><span>食物</span><span>摄入</span><span>减少</span><span>和</span><span>（</span><span>或</span><span>）</span><span style=\"color:red;\">吸收</span><span>不良</span>，<span style=\"color:red;\">可</span><span>导致</span><span style=\"color:red;\">体重减轻</span>，<span>对于</span><span>疑似</span><span>有</span><span style=\"color:red;\">结节性</span><span style=\"color:red;\">多</span><span style=\"color:red;\">动脉炎</span><span>尤其</span><span>是</span><span>伴</span><span style=\"color:red;\">腹痛</span><span>的</span><span>患者</span>，<span>应</span><span>考虑</span><span>肠系膜</span><span>血管</span><span>造影</span><span>可能</span><span>显示</span><span>动脉瘤</span><span>、</span><span style=\"color:red;\">闭塞</span><span>和</span><span style=\"color:red;\">血管</span><span>壁</span><span style=\"color:red;\">不规则</span>，<span style=\"color:red;\">肌肉</span><span style=\"color:red;\">受累</span><span>也</span><span>很</span><span>常见</span>，<span>症状</span><span>包括</span><span style=\"color:red;\">肌痛</span><span>和</span><span style=\"color:red;\">肌无力</span>，<span>血清</span><span>肌酸激酶</span><span>水平</span><span>可</span><span>轻度</span><span>升高</span>，<span>治疗</span><span>经过</span><span>：</span><span>给予</span><span>患者</span><span>米力农</span><span>、</span><span style=\"color:red;\">左西</span><span>孟旦</span><span>强心</span><span>、</span><span>呋塞米</span><span>利尿</span><span>、</span><span>胺</span><span>碘</span><span>酮</span><span>抗</span><span>心律失常</span><span>及无创</span>，<span>症状</span><span>逐渐</span><span>缓解</span>，<span>血流</span><span>动力学</span><span>逐步</span><span>稳定</span><span>后</span>，<span>加用</span><span>螺</span><span>内酯</span><span>、</span><span>美托</span><span>洛尔</span><span>及</span><span>伊伐</span><span>布雷</span><span>定</span>，<span>因</span><span style=\"color:red;\">血压</span><span style=\"color:red;\">偏低</span>，<span>暂未</span><span>加用</span><span>血管</span><span>紧张</span><span>素</span><span>转换</span><span>酶</span><span>抑制剂</span>，<span>低</span><span>分子</span><span>肝素</span><span>抗凝</span><span>逐步</span><span>过渡</span><span>至华法林</span><span>口服</span>，<span>血管炎</span><span>治疗</span><span>：</span><span>2016</span><span>年</span><span>8</span><span>月</span><span>5</span><span>日起</span><span>加用</span><span>口服</span><span>泼尼松</span><span>60</span><span>mg</span><span>/</span><span>d</span><span>、</span><span>静脉</span><span>环磷酰胺</span><span>200</span>，<span>隔日</span><span>1</span><span>次</span><span>；</span><span>2016</span><span>年</span><span>8</span><span>月</span><span>17</span><span>日</span><span>开始</span><span>静脉</span><span>甲基</span><span>强的松龙</span><span>1</span><span>g</span><span>/</span><span>d</span>，<span>连续</span><span>3</span><span>d</span>，<span>冲击</span><span>治疗</span><span>后</span><span>曾</span><span>有</span><span>一</span><span>过性</span><span style=\"color:red;\">发热</span><span>及</span><span style=\"color:red;\">腹痛</span><span>加重</span>，<span>抗感染</span><span>及</span><span>禁食</span><span>水等</span><span>治疗</span><span>后</span><span>症状</span><span>缓解</span>，<span>分析</span><span>综合</span><span>患者</span><span>的</span><span>各项</span><span>检查</span><span>结果</span>，<span>考虑</span><span>其</span><span>异常</span><span>升高</span><span>的</span><span>M</span><span>蛋白</span><span>诊断</span><span>为</span><span>意义</span><span>未明</span><span>的</span><span>单克隆</span><span>丙种球蛋白</span><span>血症</span>，<span>一种</span><span>无</span><span>临床</span><span>症状</span><span>的</span><span>癌前</span><span>克隆</span><span>性</span><span>浆细胞</span><span>或</span><span>淋巴</span><span>浆细胞</span><span>增生</span><span>性疾病</span>，<span>常</span><span>偶然</span><span>被</span><span>发现</span>，<span>由于</span><span>其</span><span>通常</span><span>无症状</span>，<span>故</span><span>推测</span><span>可能</span><span>在</span><span>诊断</span><span>前</span><span>可能</span><span>潜伏</span><span>存在</span><span>多年</span>，<span>关于</span><span>治疗</span><span>：</span><span>（</span><span>1</span><span>）</span><span>应用</span><span>激素</span><span>和</span><span>免疫</span><span>抑制剂</span><span>进行</span><span>原</span><span>发病</span><span>治疗</span><span>；</span><span>（</span><span>2</span><span>）</span><span>心血管</span>，<span>主要</span><span>是</span><span>神经</span><span style=\"color:red;\">内分泌</span><span style=\"color:red;\">拮抗剂</span><span>的</span><span>应用</span><span>；</span><span>针对</span><span>冠状动脉</span><span>炎</span><span>、</span><span>冠状动脉</span><span>病变</span><span>本身</span><span>治疗</span><span>无</span><span>共识</span>，<span>文献</span><span>报道</span><span>多为</span><span>个案</span>，<span style=\"color:red;\">可</span><span>参考</span><span>冠心病</span><span>的</span><span>治疗</span><span>方法</span>，<span>本例</span><span>患者</span><span>冠状动脉</span><span>多支</span><span>血管</span><span>远端</span><span>纤细</span><span>、</span><span>相关</span><span>冠状动脉</span><span>支配</span><span>区</span><span>存活</span><span>心肌</span><span>少</span>，<span style=\"color:red;\">不</span><span style=\"color:red;\">适合</span><span>血运重建</span><span>术</span>，<span>本例</span><span>提示</span><span>对</span><span>存在</span><span>左室</span><span style=\"color:red;\">收缩</span><span style=\"color:red;\">功能</span><span>降低</span><span>伴多</span><span>器官</span><span>损害</span><span>的</span><span>患者</span>，<span>应</span><span>考虑</span><span>血管炎</span><span>的</span><span>可能</span>，<span>进行</span><span>冠状动脉</span><span>及其</span><span>他</span><span>全身</span><span style=\"color:red;\">动脉</span><span>的</span><span>影像学</span><span>检查</span>，<span>并</span><span>结合</span><span>各</span><span>临床表现</span><span>对</span><span>血管炎</span><span>进行</span><span>进一步</span><span>病因</span><span>分析</span>，"
      ],
      "text/plain": [
       "<IPython.core.display.HTML object>"
      ]
     },
     "metadata": {},
     "output_type": "display_data"
    }
   ],
   "source": [
    "doc = random.choice(docs2)\n",
    "sents3 = get_sents(doc)\n",
    "compare_doc(sents3)"
   ]
  },
  {
   "cell_type": "code",
   "execution_count": null,
   "metadata": {},
   "outputs": [],
   "source": []
  }
 ],
 "metadata": {
  "kernelspec": {
   "display_name": "Python 3",
   "language": "python",
   "name": "python3"
  },
  "language_info": {
   "codemirror_mode": {
    "name": "ipython",
    "version": 3
   },
   "file_extension": ".py",
   "mimetype": "text/x-python",
   "name": "python",
   "nbconvert_exporter": "python",
   "pygments_lexer": "ipython3",
   "version": "3.6.4"
  }
 },
 "nbformat": 4,
 "nbformat_minor": 2
}
