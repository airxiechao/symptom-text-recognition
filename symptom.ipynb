{
 "cells": [
  {
   "cell_type": "code",
   "execution_count": 1,
   "metadata": {},
   "outputs": [
    {
     "name": "stderr",
     "output_type": "stream",
     "text": [
      "/root/anaconda3/lib/python3.6/site-packages/h5py/__init__.py:36: FutureWarning: Conversion of the second argument of issubdtype from `float` to `np.floating` is deprecated. In future, it will be treated as `np.float64 == np.dtype(float).type`.\n",
      "  from ._conv import register_converters as _register_converters\n"
     ]
    }
   ],
   "source": [
    "import json\n",
    "import numpy as np\n",
    "import random\n",
    "\n",
    "import tensorflow as tf\n",
    "import tensorlayer as tl\n",
    "\n",
    "from IPython.core.display import display, HTML"
   ]
  },
  {
   "cell_type": "code",
   "execution_count": 2,
   "metadata": {},
   "outputs": [],
   "source": [
    "batch_size = 5\n",
    "vec_dim = 100\n",
    "state_dim = 50\n",
    "sent_len = 20"
   ]
  },
  {
   "cell_type": "markdown",
   "metadata": {},
   "source": [
    "# Load word embedded vectors"
   ]
  },
  {
   "cell_type": "code",
   "execution_count": 3,
   "metadata": {},
   "outputs": [],
   "source": [
    "def load_vec():\n",
    "    dict_vec = {}\n",
    "    with open('tokens.vec', 'r', encoding='utf-8') as f:\n",
    "        f.readline()\n",
    "        for line in f:\n",
    "            line = line.split(' ')\n",
    "            token = line[0]\n",
    "            vec = line[1:-1]\n",
    "            dict_vec[token] = [float(i) for i in vec]\n",
    "    return dict_vec\n",
    "\n",
    "def get_vec(k):\n",
    "    ak = dict_vec.keys()\n",
    "    if k in ak:\n",
    "        return dict_vec[k]\n",
    "    else:\n",
    "        return [0.0]*vec_dim"
   ]
  },
  {
   "cell_type": "code",
   "execution_count": 4,
   "metadata": {},
   "outputs": [],
   "source": [
    "dict_vec = load_vec()"
   ]
  },
  {
   "cell_type": "code",
   "execution_count": null,
   "metadata": {},
   "outputs": [],
   "source": []
  },
  {
   "cell_type": "markdown",
   "metadata": {},
   "source": [
    "# Load data"
   ]
  },
  {
   "cell_type": "code",
   "execution_count": 5,
   "metadata": {},
   "outputs": [],
   "source": [
    "with open('docs.txt', 'r', encoding='utf-8') as f:\n",
    "    docs = json.load(f)"
   ]
  },
  {
   "cell_type": "code",
   "execution_count": 6,
   "metadata": {},
   "outputs": [],
   "source": [
    "with open('sents.txt', 'r', encoding='utf-8') as f:\n",
    "    sents = json.load(f)"
   ]
  },
  {
   "cell_type": "code",
   "execution_count": 7,
   "metadata": {},
   "outputs": [],
   "source": [
    "docs2 = docs[:550]"
   ]
  },
  {
   "cell_type": "code",
   "execution_count": 8,
   "metadata": {},
   "outputs": [],
   "source": [
    "sents2 = []\n",
    "for s in sents:\n",
    "    if s['labels'].count(1) > 0:\n",
    "        sents2.append(s)"
   ]
  },
  {
   "cell_type": "code",
   "execution_count": 9,
   "metadata": {},
   "outputs": [],
   "source": [
    "def get_sents(doc):\n",
    "    sents = []\n",
    "    tokens = []\n",
    "    labels = []\n",
    "\n",
    "    for t, l in list(zip(doc['text'], doc['labels'])):\n",
    "        if t in ['，', '。', '？', '！']:\n",
    "\n",
    "            sents.append({\n",
    "                'tokens': tokens,\n",
    "                'labels': labels \n",
    "            })\n",
    "\n",
    "            tokens = []\n",
    "            labels = []\n",
    "        else:\n",
    "            tokens.append(t)\n",
    "            labels.append(l)\n",
    "            \n",
    "    return sents"
   ]
  },
  {
   "cell_type": "code",
   "execution_count": 10,
   "metadata": {},
   "outputs": [],
   "source": [
    "sents3 = []\n",
    "for d in docs2:\n",
    "    sents3 += get_sents(d)"
   ]
  },
  {
   "cell_type": "markdown",
   "metadata": {},
   "source": [
    "# Build model"
   ]
  },
  {
   "cell_type": "code",
   "execution_count": 15,
   "metadata": {},
   "outputs": [
    {
     "name": "stdout",
     "output_type": "stream",
     "text": [
      "[TL] InputLayer  input: (5, 20, 100)\n",
      "[TL] RNNLayer rnn: n_hidden: 50 n_steps: 20 in_dim: 3 in_shape: (5, 20, 100) cell_fn: LSTMCell \n",
      "[TL]        RNN batch_size (concurrent processes): 5\n",
      "[TL]      n_params : 2\n",
      "[TL] ReshapeLayer reshape: (100, 50)\n",
      "[TL] DenseLayer  dense: 1 sigmoid\n",
      "[TL] ReshapeLayer reshape: (5, 20, 1)\n"
     ]
    }
   ],
   "source": [
    "tf.reset_default_graph()\n",
    "\n",
    "sent = tf.placeholder(tf.float32, shape=(batch_size, sent_len, vec_dim))\n",
    "label = tf.placeholder(tf.float32, shape=(batch_size, sent_len))\n",
    "\n",
    "network = tl.layers.InputLayer(sent)\n",
    "network = tl.layers.RNNLayer(\n",
    "    network, \n",
    "    cell_fn=tf.nn.rnn_cell.LSTMCell, \n",
    "    n_hidden=state_dim,\n",
    "    n_steps=sent_len,\n",
    "    return_last=False)\n",
    "network = tl.layers.ReshapeLayer(network, [-1, state_dim])\n",
    "network = tl.layers.DenseLayer(network, n_units=1, act = tf.sigmoid)\n",
    "network = tl.layers.ReshapeLayer(network, [-1, sent_len, 1])\n",
    "\n",
    "outputs = network.outputs\n",
    "loss = tf.sqrt(tf.reduce_mean(tf.square(tf.subtract(tf.squeeze(outputs), label))))\n",
    "train_op = tf.train.AdadeltaOptimizer(1.0, rho=0.95, epsilon=1e-06,).minimize(loss)"
   ]
  },
  {
   "cell_type": "code",
   "execution_count": 16,
   "metadata": {},
   "outputs": [],
   "source": [
    "def get_data(sents, sent_len, vec_dim):\n",
    "    x = []\n",
    "    y = []\n",
    "\n",
    "    for s in sents:\n",
    "        tokens = s['tokens']\n",
    "        labels = s['labels']\n",
    "\n",
    "        sent = []\n",
    "        lb = []\n",
    "        for t in range(sent_len):\n",
    "            if t <= len(tokens) - 1:\n",
    "                sent.append(get_vec(tokens[t]))\n",
    "                lb.append(labels[t])\n",
    "            else:\n",
    "                sent.append([0.0]*vec_dim)\n",
    "                lb.append(0)\n",
    "        x.append(sent)\n",
    "        y.append(lb)\n",
    "\n",
    "    return np.array(x), np.array(y)"
   ]
  },
  {
   "cell_type": "code",
   "execution_count": 17,
   "metadata": {},
   "outputs": [],
   "source": [
    "X, y = get_data(sents2, sent_len, vec_dim)\n",
    "X_train = X\n",
    "y_train = y"
   ]
  },
  {
   "cell_type": "code",
   "execution_count": 18,
   "metadata": {},
   "outputs": [
    {
     "name": "stdout",
     "output_type": "stream",
     "text": [
      "[TL] WARNING: Function: `tensorlayer.layers.utils.initialize_global_variables` (in file: /root/anaconda3/lib/python3.6/site-packages/tensorlayer/layers/utils.py) is deprecated and will be removed after 2018-09-30.\n",
      "Instructions for updating: This API is deprecated in favor of `tf.global_variables_initializer`\n",
      "\n",
      "0 0.24446528546634266\n",
      "10 0.1286981974163505\n",
      "20 0.1043857170387217\n",
      "30 0.08597780251966171\n",
      "40 0.0771628163293036\n"
     ]
    }
   ],
   "source": [
    "sess = tf.InteractiveSession()\n",
    "tl.layers.initialize_global_variables(sess)\n",
    "\n",
    "num_epoch = 50\n",
    "for e in range(num_epoch):\n",
    "    num_step = int(X_train.shape[0] / batch_size)\n",
    "    v = 0\n",
    "    for i in range(num_step):\n",
    "        feed_dict = {\n",
    "            sent: X_train[i*batch_size:(i+1)*batch_size],\n",
    "            label: y_train[i*batch_size:(i+1)*batch_size]\n",
    "        }\n",
    "        _, loss_value, out = sess.run([train_op, loss, outputs], feed_dict=feed_dict)\n",
    "        v += loss_value\n",
    "    if e % 10 == 0:\n",
    "        print(e, v/num_step)"
   ]
  },
  {
   "cell_type": "code",
   "execution_count": 19,
   "metadata": {},
   "outputs": [],
   "source": [
    "def build_sent_html(text, labels):\n",
    "    spans = []\n",
    "    for i in range(min(len(text), len(labels))):\n",
    "        if labels[i] == 1:\n",
    "            spans.append('<span style=\"color:red;\">'+text[i]+'</span>')\n",
    "        else:\n",
    "            spans.append('<span>'+text[i]+'</span>')\n",
    "    \n",
    "    return ''.join(spans)\n",
    "\n",
    "def print_sent(text, labels):\n",
    "    display(HTML(build_sent_html(text, labels)))"
   ]
  },
  {
   "cell_type": "code",
   "execution_count": 20,
   "metadata": {},
   "outputs": [],
   "source": [
    "def print_compare_sent(s):\n",
    "    tokens = s['tokens']\n",
    "    labels = s['labels']\n",
    "    print_sent(tokens, labels)\n",
    "    \n",
    "    px, py = parse_sent(s, sent_len, vec_dim, batch_size)\n",
    "    pp = sess.run([outputs], feed_dict={\n",
    "        sent: px,\n",
    "        label: py\n",
    "    })[0][0].flatten()\n",
    "\n",
    "    pp[pp>=.5] = 1\n",
    "    pp[pp<.5] = 0\n",
    "\n",
    "    tokens = s['tokens']\n",
    "    print_sent(tokens, pp)"
   ]
  },
  {
   "cell_type": "code",
   "execution_count": 21,
   "metadata": {},
   "outputs": [],
   "source": [
    "def parse_sent(s, sent_len, vec_dim, batch_size):\n",
    "    x = []\n",
    "    y = []\n",
    "\n",
    "    tokens = s['tokens']\n",
    "    labels = s['labels']\n",
    "\n",
    "    sent = []\n",
    "    lb = []\n",
    "    for t in range(sent_len):\n",
    "        if t <= len(tokens) - 1:\n",
    "            sent.append(get_vec(tokens[t]))\n",
    "            lb.append(labels[t])\n",
    "        else:\n",
    "            sent.append([0.0]*vec_dim)\n",
    "            lb.append(0)\n",
    "    x.append(sent)\n",
    "    y.append(lb)\n",
    "    \n",
    "    return np.array(x*batch_size), np.array(y*batch_size)\n",
    "\n",
    "def predict_label(s):\n",
    "    px, py = parse_sent(s, sent_len, vec_dim, batch_size)\n",
    "    pp = sess.run([outputs], feed_dict={\n",
    "        sent: px,\n",
    "        label: py\n",
    "    })[0][0].flatten()\n",
    "\n",
    "    pp[pp>=.5] = 1\n",
    "    pp[pp<.5] = 0\n",
    "    \n",
    "    return list(pp)"
   ]
  },
  {
   "cell_type": "code",
   "execution_count": 22,
   "metadata": {},
   "outputs": [],
   "source": [
    "def compare_doc(sents):\n",
    "    htmls = ''\n",
    "    for s in sents:\n",
    "        htmls += build_sent_html(s['tokens'], s['labels']) + '，'\n",
    "    display(HTML(''.join(htmls)))\n",
    "    \n",
    "    print('\\n')\n",
    "    htmls = ''\n",
    "    for s in sents:\n",
    "        htmls += build_sent_html(s['tokens'], predict_label(s)) + '，'\n",
    "    display(HTML(''.join(htmls)))"
   ]
  },
  {
   "cell_type": "code",
   "execution_count": null,
   "metadata": {},
   "outputs": [],
   "source": []
  },
  {
   "cell_type": "markdown",
   "metadata": {},
   "source": [
    "# Visulization"
   ]
  },
  {
   "cell_type": "code",
   "execution_count": 30,
   "metadata": {},
   "outputs": [
    {
     "data": {
      "text/html": [
       "<span>在</span><span>心电图</span><span>导联</span><span>刚刚</span><span>接好</span><span>时</span><span>患者</span><span>突然</span><span style=\"color:red;\">失去</span><span style=\"color:red;\">意识</span>"
      ],
      "text/plain": [
       "<IPython.core.display.HTML object>"
      ]
     },
     "metadata": {},
     "output_type": "display_data"
    },
    {
     "data": {
      "text/html": [
       "<span>在</span><span>心电图</span><span>导联</span><span>刚刚</span><span>接好</span><span>时</span><span>患者</span><span>突然</span><span style=\"color:red;\">失去</span><span style=\"color:red;\">意识</span>"
      ],
      "text/plain": [
       "<IPython.core.display.HTML object>"
      ]
     },
     "metadata": {},
     "output_type": "display_data"
    }
   ],
   "source": [
    "p = random.choice(sents2)\n",
    "print_compare_sent(p)"
   ]
  },
  {
   "cell_type": "code",
   "execution_count": 25,
   "metadata": {},
   "outputs": [
    {
     "data": {
      "text/html": [
       "<span>医脉通</span><span>编译</span><span>整理</span>，<span>转载</span><span>请</span><span>务必</span><span>注明</span><span>出处</span>，<span>女</span>，<span>64</span><span>岁</span>，<span>因</span><span style=\"color:red;\">腹部</span><span style=\"color:red;\">右</span><span style=\"color:red;\">髂</span><span style=\"color:red;\">窝</span><span style=\"color:red;\">疼痛</span><span>3</span><span>天伴</span><span style=\"color:red;\">恶心</span><span>、</span><span style=\"color:red;\">厌食</span><span>入院</span>，<span>无</span><span>呕吐</span>，<span>既往</span><span>体健</span>，<span>生命</span><span>体征</span><span>无</span><span>异常</span>，<span>腹部</span><span>检查</span><span>示右</span><span>髂</span><span>窝</span><span>压痛</span><span>明显</span>，<span>通过</span><span>腹壁</span><span>紧张</span><span>和</span><span>叩击</span><span>压痛</span><span>看出</span>，<span>腹膜</span><span>刺激</span><span>征</span><span>明显</span>，<span>疼痛</span><span>主要</span><span>集中</span><span>在</span><span>腹股沟</span><span>中间</span>，<span>没有</span><span>明显</span><span>的</span><span>咳嗽</span><span>冲动</span>，<span>腹部</span><span>和</span><span>骨盆</span><span>的</span><span>计算机断层扫描</span><span>（</span><span>CT</span><span>）</span><span>是</span><span>规则</span><span>的</span>，<span>根据</span><span>以上</span><span>内容</span>，<span>患者</span><span>的</span><span>诊断</span><span>是</span><span>什么</span>，<span>（</span><span>诊断</span><span>正确</span><span>或</span><span>分析</span><span>思路清晰</span><span>、</span><span>有理有据</span><span>者</span><span>将</span><span>酌情</span><span>给予</span><span>积分</span><span>奖励</span><span>）</span><span>答案</span><span>公布</span><span>Amyand</span><span>疝</span><span>计算机断层扫描</span><span>显示</span><span>阑尾</span><span>的</span><span>炎症</span>，<span>其</span><span>尖端</span><span>位于</span><span>腹股沟</span><span>韧带</span><span>深环</span><span>（</span><span>图</span><span>A</span>，<span>B</span><span>）</span>，<span>腹腔镜</span><span>下</span>，<span>观察</span><span>到</span><span>阑尾</span><span>将</span><span>进入</span><span>前</span><span>腹壁</span><span>腹股沟</span><span>深环</span><span>（</span><span>图</span><span>C</span><span>）</span>，<span>这</span><span>与</span><span>Amyand</span><span>疝</span><span>一致</span>，<span>使用</span><span>电刀</span><span>和</span><span>钝性</span><span>分离</span><span>与</span><span>牵引</span>，<span>阑尾</span><span>完整</span><span>回到</span><span>腹部</span>，<span>注意</span><span>到</span><span>急性</span><span>炎症</span><span>（</span><span>图</span><span>D</span><span>）</span>，<span>进行</span><span>常规</span><span>阑尾</span><span>切除术</span>，<span>组织</span><span>病理学</span><span>证实</span><span>为</span><span>急性</span><span>化脓性</span><span>阑尾炎</span>，<span>在</span><span>目前</span><span>的</span><span>腹腔镜</span><span>阑尾</span><span>切除术</span><span>的</span><span>时代</span>，<span>需要</span><span>注意</span><span>的</span><span>是</span>，<span>在</span><span>这种</span><span>情况</span><span>下</span><span>我们</span><span>强调</span><span>不</span><span>修补</span><span>腹股沟</span><span>疝</span><span>并且</span><span>由于</span><span>感染</span><span>的</span><span>高风险</span>，<span>不</span><span>使用</span><span>人工</span><span>补片</span>，<span>当</span><span>腹腔镜</span><span>腹膜</span><span>外</span><span>途径</span><span>允许</span><span>安全</span><span>的</span><span>腹股沟</span><span>疝</span><span>修补术</span>，<span>我们</span><span>建议</span><span>分期</span><span>修复</span><span>作为</span><span>第二</span><span>操作</span>，<span>Amyand</span><span>疝</span><span>是</span><span>包含</span><span>阑尾</span><span>的</span><span>非典型</span><span>腹股沟</span><span>疝</span>，<span>据</span><span>记载</span>，<span>法国</span><span>医生</span><span>Cladius</span><span>Amyand</span><span>1735</span><span>年</span><span>在</span><span>一名</span><span>11</span><span>岁</span><span>的</span><span>腹股沟</span><span>疝</span><span>韧带</span><span>穿孔</span><span>患者</span><span>身上</span><span>进行</span><span>了</span><span>第一例</span><span>阑尾</span><span>切除术</span><span>和</span><span>疝</span><span>修补术</span>，<span>对</span><span>一家</span><span>医疗</span><span>中心</span><span>11</span><span>年来</span><span>4498</span><span>名</span><span>进行</span><span>腹股沟</span><span>疝</span><span>手术</span><span>和</span><span>阑尾</span><span>切除术</span><span>患者</span><span>的</span><span>观察</span><span>显示</span>，<span>Amyand</span><span>疝</span><span>发生</span><span>在</span><span>46</span><span>名</span><span>患者</span><span>中</span>，<span>其中</span><span>9</span><span>名</span><span>（</span><span>0.1%</span><span>）</span><span>阑尾</span><span>发炎</span>，<span>该</span><span>病例</span><span>捕获</span><span>的</span><span>图像</span><span>确实</span><span>罕见</span>，"
      ],
      "text/plain": [
       "<IPython.core.display.HTML object>"
      ]
     },
     "metadata": {},
     "output_type": "display_data"
    },
    {
     "name": "stdout",
     "output_type": "stream",
     "text": [
      "\n",
      "\n"
     ]
    },
    {
     "data": {
      "text/html": [
       "<span>医脉通</span><span>编译</span><span>整理</span>，<span>转载</span><span>请</span><span>务必</span><span>注明</span><span>出处</span>，<span>女</span>，<span>64</span><span>岁</span>，<span>因</span><span style=\"color:red;\">腹部</span><span style=\"color:red;\">右</span><span style=\"color:red;\">髂</span><span style=\"color:red;\">窝</span><span style=\"color:red;\">疼痛</span><span>3</span><span>天伴</span><span style=\"color:red;\">恶心</span><span>、</span><span style=\"color:red;\">厌食</span><span>入院</span>，<span>无</span><span style=\"color:red;\">呕吐</span>，<span>既往</span><span>体健</span>，<span>生命</span><span>体征</span><span>无</span><span>异常</span>，<span style=\"color:red;\">腹部</span><span>检查</span><span>示右</span><span>髂</span><span>窝</span><span>压痛</span><span>明显</span>，<span>通过</span><span style=\"color:red;\">腹壁</span><span style=\"color:red;\">紧张</span><span>和</span><span style=\"color:red;\">叩击</span><span style=\"color:red;\">压痛</span><span>看出</span>，<span style=\"color:red;\">腹膜</span><span>刺激</span><span>征</span><span>明显</span>，<span style=\"color:red;\">疼痛</span><span>主要</span><span>集中</span><span>在</span><span style=\"color:red;\">腹股沟</span><span style=\"color:red;\">中间</span>，<span>没有</span><span>明显</span><span>的</span><span style=\"color:red;\">咳嗽</span><span>冲动</span>，<span style=\"color:red;\">腹部</span><span style=\"color:red;\">和</span><span style=\"color:red;\">骨盆</span><span>的</span><span>计算机断层扫描</span><span>（</span><span>CT</span><span>）</span><span>是</span><span>规则</span><span>的</span>，<span>根据</span><span>以上</span><span style=\"color:red;\">内容</span>，<span>患者</span><span>的</span><span>诊断</span><span>是</span><span>什么</span>，<span>（</span><span>诊断</span><span>正确</span><span>或</span><span>分析</span><span>思路清晰</span><span>、</span><span>有理有据</span><span>者</span><span>将</span><span>酌情</span><span>给予</span><span>积分</span><span>奖励</span><span>）</span><span>答案</span><span>公布</span><span>Amyand</span><span>疝</span><span>计算机断层扫描</span>，<span>其</span><span>尖端</span><span>位于</span><span style=\"color:red;\">腹股沟</span><span style=\"color:red;\">韧带</span><span>深环</span><span>（</span><span>图</span><span>A</span>，<span>B</span><span>）</span>，<span>腹腔镜</span><span>下</span>，<span>观察</span><span>到</span><span>阑尾</span><span>将</span><span>进入</span><span>前</span><span>腹壁</span><span>腹股沟</span><span>深环</span><span>（</span><span>图</span><span>C</span><span>）</span>，<span>这</span><span>与</span><span>Amyand</span><span>疝</span><span>一致</span>，<span>使用</span><span>电刀</span><span>和</span><span>钝性</span><span>分离</span><span>与</span><span>牵引</span>，<span>阑尾</span><span>完整</span><span>回到</span><span>腹部</span>，<span>注意</span><span>到</span><span>急性</span><span>炎症</span><span>（</span><span>图</span><span>D</span><span>）</span>，<span>进行</span><span>常规</span><span>阑尾</span><span>切除术</span>，<span style=\"color:red;\">组织</span><span>病理学</span><span>证实</span><span>为</span><span>急性</span><span>化脓性</span><span>阑尾炎</span>，<span>在</span><span>目前</span><span>的</span><span>腹腔镜</span><span>阑尾</span><span>切除术</span><span>的</span><span>时代</span>，<span>需要</span><span>注意</span><span>的</span><span>是</span>，<span>在</span><span>这种</span><span>情况</span><span>下</span><span>我们</span><span>强调</span><span>不</span><span>修补</span><span>腹股沟</span><span>疝</span><span>并且</span><span>由于</span><span>感染</span><span>的</span><span>高风险</span>，<span style=\"color:red;\">不</span><span>使用</span><span>人工</span><span>补片</span>，<span>当</span><span>腹腔镜</span><span>腹膜</span><span>外</span><span>途径</span><span>允许</span><span>安全</span><span>的</span><span>腹股沟</span><span>疝</span><span>修补术</span>，<span>我们</span><span>建议</span><span>分期</span><span>修复</span><span>作为</span><span>第二</span><span>操作</span>，<span>Amyand</span><span>疝</span><span>是</span><span>包含</span><span>阑尾</span><span>的</span><span>非典型</span><span>腹股沟</span><span>疝</span>，<span>据</span><span>记载</span>，<span>法国</span><span>医生</span><span>Cladius</span><span>Amyand</span><span>1735</span><span>年</span><span>在</span><span>一名</span><span>11</span><span>岁</span><span>的</span><span style=\"color:red;\">腹股沟</span><span style=\"color:red;\">疝</span><span>韧带</span><span>穿孔</span><span>患者</span><span>身上</span><span>进行</span><span>了</span><span>第一例</span>，<span>对</span><span>一家</span><span>医疗</span><span>中心</span><span>11</span><span>年来</span><span>4498</span><span>名</span><span>进行</span><span>腹股沟</span><span>疝</span><span>手术</span><span>和</span><span>阑尾</span><span>切除术</span><span>患者</span><span>的</span><span>观察</span><span>显示</span>，<span>Amyand</span><span>疝</span><span>发生</span><span>在</span><span>46</span><span>名</span><span>患者</span><span>中</span>，<span>其中</span><span>9</span><span>名</span><span>（</span><span>0.1%</span><span>）</span><span>阑尾</span><span>发炎</span>，<span>该</span><span>病例</span><span>捕获</span><span>的</span><span>图像</span><span>确实</span><span>罕见</span>，"
      ],
      "text/plain": [
       "<IPython.core.display.HTML object>"
      ]
     },
     "metadata": {},
     "output_type": "display_data"
    }
   ],
   "source": [
    "doc = random.choice(docs2)\n",
    "sents3 = get_sents(doc)\n",
    "compare_doc(sents3)"
   ]
  },
  {
   "cell_type": "code",
   "execution_count": null,
   "metadata": {},
   "outputs": [],
   "source": []
  }
 ],
 "metadata": {
  "kernelspec": {
   "display_name": "Python 3",
   "language": "python",
   "name": "python3"
  },
  "language_info": {
   "codemirror_mode": {
    "name": "ipython",
    "version": 3
   },
   "file_extension": ".py",
   "mimetype": "text/x-python",
   "name": "python",
   "nbconvert_exporter": "python",
   "pygments_lexer": "ipython3",
   "version": "3.6.4"
  }
 },
 "nbformat": 4,
 "nbformat_minor": 2
}
